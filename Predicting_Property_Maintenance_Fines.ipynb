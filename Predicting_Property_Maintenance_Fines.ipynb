{
  "nbformat": 4,
  "nbformat_minor": 0,
  "metadata": {
    "colab": {
      "name": "Predicting_Property_Maintenance_Fines.ipynb",
      "provenance": [],
      "collapsed_sections": []
    },
    "kernelspec": {
      "name": "python3",
      "display_name": "Python 3"
    }
  },
  "cells": [
    {
      "cell_type": "markdown",
      "metadata": {
        "id": "Bw5YaBokZhur"
      },
      "source": [
        "# 1. Mount virtual drive"
      ]
    },
    {
      "cell_type": "code",
      "metadata": {
        "colab": {
          "base_uri": "https://localhost:8080/"
        },
        "id": "JHYpskmTsWK6",
        "outputId": "d1f6e6d3-0a7f-4e4d-943b-833e2644b65b"
      },
      "source": [
        "from google.colab import drive\n",
        "drive.mount('/content/drive')"
      ],
      "execution_count": 130,
      "outputs": [
        {
          "output_type": "stream",
          "text": [
            "Drive already mounted at /content/drive; to attempt to forcibly remount, call drive.mount(\"/content/drive\", force_remount=True).\n"
          ],
          "name": "stdout"
        }
      ]
    },
    {
      "cell_type": "markdown",
      "metadata": {
        "id": "pGsO-brpZmmF"
      },
      "source": [
        "# 2. Importing libraries"
      ]
    },
    {
      "cell_type": "code",
      "metadata": {
        "id": "e0rqMAc1sxeQ"
      },
      "source": [
        "import pandas as pd\r\n",
        "import numpy as np\r\n",
        "import seaborn as sns\r\n",
        "from sklearn.linear_model import LogisticRegression\r\n",
        "from sklearn.model_selection import train_test_split\r\n",
        "import matplotlib.pyplot as plt\r\n",
        "from sklearn.preprocessing import LabelEncoder\r\n",
        "from pandas import ExcelWriter\r\n",
        "from sklearn.metrics import accuracy_score, recall_score, auc, roc_curve, precision_score, f1_score\r\n",
        "from sklearn.metrics import classification_report, confusion_matrix\r\n",
        "from sklearn.model_selection import GridSearchCV\r\n",
        "from sklearn.preprocessing import MinMaxScaler\r\n",
        "from sklearn.tree import DecisionTreeClassifier\r\n",
        "from sklearn.ensemble import GradientBoostingClassifier, RandomForestClassifier\r\n",
        "from sklearn.preprocessing import LabelEncoder, OneHotEncoder\r\n",
        "import warnings\r\n",
        "warnings.filterwarnings(\"ignore\")"
      ],
      "execution_count": 131,
      "outputs": []
    },
    {
      "cell_type": "code",
      "metadata": {
        "id": "qrEsZGy5IPS0"
      },
      "source": [
        "def plot_confusion_matrix(cm,\r\n",
        "                          target_names,\r\n",
        "                          title='Confusion matrix',\r\n",
        "                          cmap=None,\r\n",
        "                          normalize=True):\r\n",
        "    \"\"\"\r\n",
        "    given a sklearn confusion matrix (cm), make a nice plot\r\n",
        "\r\n",
        "    Arguments\r\n",
        "    ---------\r\n",
        "    cm:           confusion matrix from sklearn.metrics.confusion_matrix\r\n",
        "\r\n",
        "    target_names: given classification classes such as [0, 1, 2]\r\n",
        "                  the class names, for example: ['high', 'medium', 'low']\r\n",
        "\r\n",
        "    title:        the text to display at the top of the matrix\r\n",
        "\r\n",
        "    cmap:         the gradient of the values displayed from matplotlib.pyplot.cm\r\n",
        "                  see http://matplotlib.org/examples/color/colormaps_reference.html\r\n",
        "                  plt.get_cmap('jet') or plt.cm.Blues\r\n",
        "\r\n",
        "    normalize:    If False, plot the raw numbers\r\n",
        "                  If True, plot the proportions\r\n",
        "\r\n",
        "    Usage\r\n",
        "    -----\r\n",
        "    plot_confusion_matrix(cm           = cm,                  # confusion matrix created by\r\n",
        "                                                              # sklearn.metrics.confusion_matrix\r\n",
        "                          normalize    = True,                # show proportions\r\n",
        "                          target_names = y_labels_vals,       # list of names of the classes\r\n",
        "                          title        = best_estimator_name) # title of graph\r\n",
        "\r\n",
        "    Citiation\r\n",
        "    ---------\r\n",
        "    http://scikit-learn.org/stable/auto_examples/model_selection/plot_confusion_matrix.html\r\n",
        "\r\n",
        "    \"\"\"\r\n",
        "    import matplotlib.pyplot as plt\r\n",
        "    import numpy as np\r\n",
        "    import itertools\r\n",
        "\r\n",
        "    accuracy = np.trace(cm) / float(np.sum(cm))\r\n",
        "    misclass = 1 - accuracy\r\n",
        "\r\n",
        "    if cmap is None:\r\n",
        "        cmap = plt.get_cmap('Blues')\r\n",
        "\r\n",
        "    plt.figure(figsize=(8, 6))\r\n",
        "    plt.imshow(cm, interpolation='nearest', cmap=cmap)\r\n",
        "    plt.title(title)\r\n",
        "    plt.colorbar()\r\n",
        "\r\n",
        "    if target_names is not None:\r\n",
        "        tick_marks = np.arange(len(target_names))\r\n",
        "        plt.xticks(tick_marks, target_names, rotation=45)\r\n",
        "        plt.yticks(tick_marks, target_names)\r\n",
        "\r\n",
        "    if normalize:\r\n",
        "        cm = cm.astype('float') / cm.sum(axis=1)[:, np.newaxis]\r\n",
        "\r\n",
        "\r\n",
        "    thresh = cm.max() / 1.5 if normalize else cm.max() / 2\r\n",
        "    for i, j in itertools.product(range(cm.shape[0]), range(cm.shape[1])):\r\n",
        "        if normalize:\r\n",
        "            plt.text(j, i, \"{:0.4f}\".format(cm[i, j]),\r\n",
        "                     horizontalalignment=\"center\",\r\n",
        "                     color=\"white\" if cm[i, j] > thresh else \"black\")\r\n",
        "        else:\r\n",
        "            plt.text(j, i, \"{:,}\".format(cm[i, j]),\r\n",
        "                     horizontalalignment=\"center\",\r\n",
        "                     color=\"white\" if cm[i, j] > thresh else \"black\")\r\n",
        "\r\n",
        "\r\n",
        "    plt.tight_layout()\r\n",
        "    plt.ylabel('True label')\r\n",
        "    plt.xlabel('Predicted label\\naccuracy={:0.4f}; misclass={:0.4f}'.format(accuracy, misclass))\r\n",
        "    plt.show()"
      ],
      "execution_count": 132,
      "outputs": []
    },
    {
      "cell_type": "markdown",
      "metadata": {
        "id": "ilvRGm5DZpp7"
      },
      "source": [
        "# 3. Loading datasets"
      ]
    },
    {
      "cell_type": "code",
      "metadata": {
        "colab": {
          "base_uri": "https://localhost:8080/",
          "height": 564
        },
        "id": "lLKrLRPmsh8a",
        "outputId": "f61dfcc6-3d87-4aaa-a970-a2639c9e77e0"
      },
      "source": [
        "train_df = pd.read_csv(\"/content/drive/My Drive/train.csv\",encoding = 'ISO-8859-1')\r\n",
        "test_df = pd.read_csv(\"/content/drive/MyDrive/test.csv\")\r\n",
        "address_df = pd.read_csv(\"/content/drive/MyDrive/addresses.csv\")\r\n",
        "\r\n",
        "train_df.head()"
      ],
      "execution_count": 133,
      "outputs": [
        {
          "output_type": "execute_result",
          "data": {
            "text/html": [
              "<div>\n",
              "<style scoped>\n",
              "    .dataframe tbody tr th:only-of-type {\n",
              "        vertical-align: middle;\n",
              "    }\n",
              "\n",
              "    .dataframe tbody tr th {\n",
              "        vertical-align: top;\n",
              "    }\n",
              "\n",
              "    .dataframe thead th {\n",
              "        text-align: right;\n",
              "    }\n",
              "</style>\n",
              "<table border=\"1\" class=\"dataframe\">\n",
              "  <thead>\n",
              "    <tr style=\"text-align: right;\">\n",
              "      <th></th>\n",
              "      <th>ticket_id</th>\n",
              "      <th>agency_name</th>\n",
              "      <th>inspector_name</th>\n",
              "      <th>violator_name</th>\n",
              "      <th>violation_street_number</th>\n",
              "      <th>violation_street_name</th>\n",
              "      <th>violation_zip_code</th>\n",
              "      <th>mailing_address_str_number</th>\n",
              "      <th>mailing_address_str_name</th>\n",
              "      <th>city</th>\n",
              "      <th>state</th>\n",
              "      <th>zip_code</th>\n",
              "      <th>non_us_str_code</th>\n",
              "      <th>country</th>\n",
              "      <th>ticket_issued_date</th>\n",
              "      <th>hearing_date</th>\n",
              "      <th>violation_code</th>\n",
              "      <th>violation_description</th>\n",
              "      <th>disposition</th>\n",
              "      <th>fine_amount</th>\n",
              "      <th>admin_fee</th>\n",
              "      <th>state_fee</th>\n",
              "      <th>late_fee</th>\n",
              "      <th>discount_amount</th>\n",
              "      <th>clean_up_cost</th>\n",
              "      <th>judgment_amount</th>\n",
              "      <th>payment_amount</th>\n",
              "      <th>balance_due</th>\n",
              "      <th>payment_date</th>\n",
              "      <th>payment_status</th>\n",
              "      <th>collection_status</th>\n",
              "      <th>grafitti_status</th>\n",
              "      <th>compliance_detail</th>\n",
              "      <th>compliance</th>\n",
              "    </tr>\n",
              "  </thead>\n",
              "  <tbody>\n",
              "    <tr>\n",
              "      <th>0</th>\n",
              "      <td>22056</td>\n",
              "      <td>Buildings, Safety Engineering &amp; Env Department</td>\n",
              "      <td>Sims, Martinzie</td>\n",
              "      <td>INVESTMENT INC., MIDWEST MORTGAGE</td>\n",
              "      <td>2900.0</td>\n",
              "      <td>TYLER</td>\n",
              "      <td>NaN</td>\n",
              "      <td>3.0</td>\n",
              "      <td>S. WICKER</td>\n",
              "      <td>CHICAGO</td>\n",
              "      <td>IL</td>\n",
              "      <td>60606</td>\n",
              "      <td>NaN</td>\n",
              "      <td>USA</td>\n",
              "      <td>2004-03-16 11:40:00</td>\n",
              "      <td>2005-03-21 10:30:00</td>\n",
              "      <td>9-1-36(a)</td>\n",
              "      <td>Failure of owner to obtain certificate of comp...</td>\n",
              "      <td>Responsible by Default</td>\n",
              "      <td>250.0</td>\n",
              "      <td>20.0</td>\n",
              "      <td>10.0</td>\n",
              "      <td>25.0</td>\n",
              "      <td>0.0</td>\n",
              "      <td>0.0</td>\n",
              "      <td>305.0</td>\n",
              "      <td>0.0</td>\n",
              "      <td>305.0</td>\n",
              "      <td>NaN</td>\n",
              "      <td>NO PAYMENT APPLIED</td>\n",
              "      <td>NaN</td>\n",
              "      <td>NaN</td>\n",
              "      <td>non-compliant by no payment</td>\n",
              "      <td>0.0</td>\n",
              "    </tr>\n",
              "    <tr>\n",
              "      <th>1</th>\n",
              "      <td>27586</td>\n",
              "      <td>Buildings, Safety Engineering &amp; Env Department</td>\n",
              "      <td>Williams, Darrin</td>\n",
              "      <td>Michigan, Covenant House</td>\n",
              "      <td>4311.0</td>\n",
              "      <td>CENTRAL</td>\n",
              "      <td>NaN</td>\n",
              "      <td>2959.0</td>\n",
              "      <td>Martin Luther King</td>\n",
              "      <td>Detroit</td>\n",
              "      <td>MI</td>\n",
              "      <td>48208</td>\n",
              "      <td>NaN</td>\n",
              "      <td>USA</td>\n",
              "      <td>2004-04-23 12:30:00</td>\n",
              "      <td>2005-05-06 13:30:00</td>\n",
              "      <td>61-63.0600</td>\n",
              "      <td>Failed To Secure Permit For Lawful Use Of Buil...</td>\n",
              "      <td>Responsible by Determination</td>\n",
              "      <td>750.0</td>\n",
              "      <td>20.0</td>\n",
              "      <td>10.0</td>\n",
              "      <td>75.0</td>\n",
              "      <td>0.0</td>\n",
              "      <td>0.0</td>\n",
              "      <td>855.0</td>\n",
              "      <td>780.0</td>\n",
              "      <td>75.0</td>\n",
              "      <td>2005-06-02 00:00:00</td>\n",
              "      <td>PAID IN FULL</td>\n",
              "      <td>NaN</td>\n",
              "      <td>NaN</td>\n",
              "      <td>compliant by late payment within 1 month</td>\n",
              "      <td>1.0</td>\n",
              "    </tr>\n",
              "    <tr>\n",
              "      <th>2</th>\n",
              "      <td>22062</td>\n",
              "      <td>Buildings, Safety Engineering &amp; Env Department</td>\n",
              "      <td>Sims, Martinzie</td>\n",
              "      <td>SANDERS, DERRON</td>\n",
              "      <td>1449.0</td>\n",
              "      <td>LONGFELLOW</td>\n",
              "      <td>NaN</td>\n",
              "      <td>23658.0</td>\n",
              "      <td>P.O. BOX</td>\n",
              "      <td>DETROIT</td>\n",
              "      <td>MI</td>\n",
              "      <td>48223</td>\n",
              "      <td>NaN</td>\n",
              "      <td>USA</td>\n",
              "      <td>2004-04-26 13:40:00</td>\n",
              "      <td>2005-03-29 10:30:00</td>\n",
              "      <td>9-1-36(a)</td>\n",
              "      <td>Failure of owner to obtain certificate of comp...</td>\n",
              "      <td>Not responsible by Dismissal</td>\n",
              "      <td>250.0</td>\n",
              "      <td>0.0</td>\n",
              "      <td>0.0</td>\n",
              "      <td>0.0</td>\n",
              "      <td>0.0</td>\n",
              "      <td>0.0</td>\n",
              "      <td>0.0</td>\n",
              "      <td>0.0</td>\n",
              "      <td>0.0</td>\n",
              "      <td>NaN</td>\n",
              "      <td>NO PAYMENT APPLIED</td>\n",
              "      <td>NaN</td>\n",
              "      <td>NaN</td>\n",
              "      <td>not responsible by disposition</td>\n",
              "      <td>NaN</td>\n",
              "    </tr>\n",
              "    <tr>\n",
              "      <th>3</th>\n",
              "      <td>22084</td>\n",
              "      <td>Buildings, Safety Engineering &amp; Env Department</td>\n",
              "      <td>Sims, Martinzie</td>\n",
              "      <td>MOROSI, MIKE</td>\n",
              "      <td>1441.0</td>\n",
              "      <td>LONGFELLOW</td>\n",
              "      <td>NaN</td>\n",
              "      <td>5.0</td>\n",
              "      <td>ST. CLAIR</td>\n",
              "      <td>DETROIT</td>\n",
              "      <td>MI</td>\n",
              "      <td>48214</td>\n",
              "      <td>NaN</td>\n",
              "      <td>USA</td>\n",
              "      <td>2004-04-26 13:30:00</td>\n",
              "      <td>NaN</td>\n",
              "      <td>9-1-36(a)</td>\n",
              "      <td>Failure of owner to obtain certificate of comp...</td>\n",
              "      <td>Not responsible by City Dismissal</td>\n",
              "      <td>250.0</td>\n",
              "      <td>0.0</td>\n",
              "      <td>0.0</td>\n",
              "      <td>0.0</td>\n",
              "      <td>0.0</td>\n",
              "      <td>0.0</td>\n",
              "      <td>0.0</td>\n",
              "      <td>0.0</td>\n",
              "      <td>0.0</td>\n",
              "      <td>NaN</td>\n",
              "      <td>NO PAYMENT APPLIED</td>\n",
              "      <td>NaN</td>\n",
              "      <td>NaN</td>\n",
              "      <td>not responsible by disposition</td>\n",
              "      <td>NaN</td>\n",
              "    </tr>\n",
              "    <tr>\n",
              "      <th>4</th>\n",
              "      <td>22093</td>\n",
              "      <td>Buildings, Safety Engineering &amp; Env Department</td>\n",
              "      <td>Sims, Martinzie</td>\n",
              "      <td>NATHANIEL, NEAL</td>\n",
              "      <td>2449.0</td>\n",
              "      <td>CHURCHILL</td>\n",
              "      <td>NaN</td>\n",
              "      <td>7449.0</td>\n",
              "      <td>CHURCHILL</td>\n",
              "      <td>DETROIT</td>\n",
              "      <td>MI</td>\n",
              "      <td>48206</td>\n",
              "      <td>NaN</td>\n",
              "      <td>USA</td>\n",
              "      <td>2004-04-26 13:00:00</td>\n",
              "      <td>2005-03-29 10:30:00</td>\n",
              "      <td>9-1-36(a)</td>\n",
              "      <td>Failure of owner to obtain certificate of comp...</td>\n",
              "      <td>Not responsible by Dismissal</td>\n",
              "      <td>250.0</td>\n",
              "      <td>0.0</td>\n",
              "      <td>0.0</td>\n",
              "      <td>0.0</td>\n",
              "      <td>0.0</td>\n",
              "      <td>0.0</td>\n",
              "      <td>0.0</td>\n",
              "      <td>0.0</td>\n",
              "      <td>0.0</td>\n",
              "      <td>NaN</td>\n",
              "      <td>NO PAYMENT APPLIED</td>\n",
              "      <td>NaN</td>\n",
              "      <td>NaN</td>\n",
              "      <td>not responsible by disposition</td>\n",
              "      <td>NaN</td>\n",
              "    </tr>\n",
              "  </tbody>\n",
              "</table>\n",
              "</div>"
            ],
            "text/plain": [
              "   ticket_id  ... compliance\n",
              "0      22056  ...        0.0\n",
              "1      27586  ...        1.0\n",
              "2      22062  ...        NaN\n",
              "3      22084  ...        NaN\n",
              "4      22093  ...        NaN\n",
              "\n",
              "[5 rows x 34 columns]"
            ]
          },
          "metadata": {
            "tags": []
          },
          "execution_count": 133
        }
      ]
    },
    {
      "cell_type": "code",
      "metadata": {
        "colab": {
          "base_uri": "https://localhost:8080/"
        },
        "id": "0HC9WC7MZW2Q",
        "outputId": "d2859fb2-05fa-42d7-bffe-408149b1700b"
      },
      "source": [
        "train_df.shape"
      ],
      "execution_count": 134,
      "outputs": [
        {
          "output_type": "execute_result",
          "data": {
            "text/plain": [
              "(250306, 34)"
            ]
          },
          "metadata": {
            "tags": []
          },
          "execution_count": 134
        }
      ]
    },
    {
      "cell_type": "markdown",
      "metadata": {
        "id": "C8hNI10TEb3f"
      },
      "source": [
        "# 4. Data cleaning and wrangling"
      ]
    },
    {
      "cell_type": "markdown",
      "metadata": {
        "id": "AFEZf-PyEfwi"
      },
      "source": [
        "### 4.1 Dropping variables that don't provide much information"
      ]
    },
    {
      "cell_type": "code",
      "metadata": {
        "colab": {
          "base_uri": "https://localhost:8080/"
        },
        "id": "aPIVXAZ0Fxpd",
        "outputId": "0bf929d7-cabb-41db-d177-118747aa4b7b"
      },
      "source": [
        "train_df.info()"
      ],
      "execution_count": 135,
      "outputs": [
        {
          "output_type": "stream",
          "text": [
            "<class 'pandas.core.frame.DataFrame'>\n",
            "RangeIndex: 250306 entries, 0 to 250305\n",
            "Data columns (total 34 columns):\n",
            " #   Column                      Non-Null Count   Dtype  \n",
            "---  ------                      --------------   -----  \n",
            " 0   ticket_id                   250306 non-null  int64  \n",
            " 1   agency_name                 250306 non-null  object \n",
            " 2   inspector_name              250306 non-null  object \n",
            " 3   violator_name               250272 non-null  object \n",
            " 4   violation_street_number     250306 non-null  float64\n",
            " 5   violation_street_name       250306 non-null  object \n",
            " 6   violation_zip_code          0 non-null       float64\n",
            " 7   mailing_address_str_number  246704 non-null  float64\n",
            " 8   mailing_address_str_name    250302 non-null  object \n",
            " 9   city                        250306 non-null  object \n",
            " 10  state                       250213 non-null  object \n",
            " 11  zip_code                    250305 non-null  object \n",
            " 12  non_us_str_code             3 non-null       object \n",
            " 13  country                     250306 non-null  object \n",
            " 14  ticket_issued_date          250306 non-null  object \n",
            " 15  hearing_date                237815 non-null  object \n",
            " 16  violation_code              250306 non-null  object \n",
            " 17  violation_description       250306 non-null  object \n",
            " 18  disposition                 250306 non-null  object \n",
            " 19  fine_amount                 250305 non-null  float64\n",
            " 20  admin_fee                   250306 non-null  float64\n",
            " 21  state_fee                   250306 non-null  float64\n",
            " 22  late_fee                    250306 non-null  float64\n",
            " 23  discount_amount             250306 non-null  float64\n",
            " 24  clean_up_cost               250306 non-null  float64\n",
            " 25  judgment_amount             250306 non-null  float64\n",
            " 26  payment_amount              250306 non-null  float64\n",
            " 27  balance_due                 250306 non-null  float64\n",
            " 28  payment_date                41113 non-null   object \n",
            " 29  payment_status              250306 non-null  object \n",
            " 30  collection_status           36897 non-null   object \n",
            " 31  grafitti_status             1 non-null       object \n",
            " 32  compliance_detail           250306 non-null  object \n",
            " 33  compliance                  159880 non-null  float64\n",
            "dtypes: float64(13), int64(1), object(20)\n",
            "memory usage: 64.9+ MB\n"
          ],
          "name": "stdout"
        }
      ]
    },
    {
      "cell_type": "code",
      "metadata": {
        "colab": {
          "base_uri": "https://localhost:8080/",
          "height": 564
        },
        "id": "NmehngjBEmzK",
        "outputId": "49ef6b60-8aec-411d-879f-df428d0bfe08"
      },
      "source": [
        "train_df = train_df.drop(['ticket_id','country','payment_date','payment_status','collection_status',\r\n",
        "                          'grafitti_status','compliance_detail','violation_zip_code','non_us_str_code',\r\n",
        "                          'payment_amount','late_fee','balance_due','state'],axis=1)\r\n",
        "test_df = test_df.drop(['ticket_id','country','grafitti_status','violation_zip_code','non_us_str_code',\r\n",
        "                        'late_fee','state'],axis=1)\r\n",
        "train_df.head()"
      ],
      "execution_count": 136,
      "outputs": [
        {
          "output_type": "execute_result",
          "data": {
            "text/html": [
              "<div>\n",
              "<style scoped>\n",
              "    .dataframe tbody tr th:only-of-type {\n",
              "        vertical-align: middle;\n",
              "    }\n",
              "\n",
              "    .dataframe tbody tr th {\n",
              "        vertical-align: top;\n",
              "    }\n",
              "\n",
              "    .dataframe thead th {\n",
              "        text-align: right;\n",
              "    }\n",
              "</style>\n",
              "<table border=\"1\" class=\"dataframe\">\n",
              "  <thead>\n",
              "    <tr style=\"text-align: right;\">\n",
              "      <th></th>\n",
              "      <th>agency_name</th>\n",
              "      <th>inspector_name</th>\n",
              "      <th>violator_name</th>\n",
              "      <th>violation_street_number</th>\n",
              "      <th>violation_street_name</th>\n",
              "      <th>mailing_address_str_number</th>\n",
              "      <th>mailing_address_str_name</th>\n",
              "      <th>city</th>\n",
              "      <th>zip_code</th>\n",
              "      <th>ticket_issued_date</th>\n",
              "      <th>hearing_date</th>\n",
              "      <th>violation_code</th>\n",
              "      <th>violation_description</th>\n",
              "      <th>disposition</th>\n",
              "      <th>fine_amount</th>\n",
              "      <th>admin_fee</th>\n",
              "      <th>state_fee</th>\n",
              "      <th>discount_amount</th>\n",
              "      <th>clean_up_cost</th>\n",
              "      <th>judgment_amount</th>\n",
              "      <th>compliance</th>\n",
              "    </tr>\n",
              "  </thead>\n",
              "  <tbody>\n",
              "    <tr>\n",
              "      <th>0</th>\n",
              "      <td>Buildings, Safety Engineering &amp; Env Department</td>\n",
              "      <td>Sims, Martinzie</td>\n",
              "      <td>INVESTMENT INC., MIDWEST MORTGAGE</td>\n",
              "      <td>2900.0</td>\n",
              "      <td>TYLER</td>\n",
              "      <td>3.0</td>\n",
              "      <td>S. WICKER</td>\n",
              "      <td>CHICAGO</td>\n",
              "      <td>60606</td>\n",
              "      <td>2004-03-16 11:40:00</td>\n",
              "      <td>2005-03-21 10:30:00</td>\n",
              "      <td>9-1-36(a)</td>\n",
              "      <td>Failure of owner to obtain certificate of comp...</td>\n",
              "      <td>Responsible by Default</td>\n",
              "      <td>250.0</td>\n",
              "      <td>20.0</td>\n",
              "      <td>10.0</td>\n",
              "      <td>0.0</td>\n",
              "      <td>0.0</td>\n",
              "      <td>305.0</td>\n",
              "      <td>0.0</td>\n",
              "    </tr>\n",
              "    <tr>\n",
              "      <th>1</th>\n",
              "      <td>Buildings, Safety Engineering &amp; Env Department</td>\n",
              "      <td>Williams, Darrin</td>\n",
              "      <td>Michigan, Covenant House</td>\n",
              "      <td>4311.0</td>\n",
              "      <td>CENTRAL</td>\n",
              "      <td>2959.0</td>\n",
              "      <td>Martin Luther King</td>\n",
              "      <td>Detroit</td>\n",
              "      <td>48208</td>\n",
              "      <td>2004-04-23 12:30:00</td>\n",
              "      <td>2005-05-06 13:30:00</td>\n",
              "      <td>61-63.0600</td>\n",
              "      <td>Failed To Secure Permit For Lawful Use Of Buil...</td>\n",
              "      <td>Responsible by Determination</td>\n",
              "      <td>750.0</td>\n",
              "      <td>20.0</td>\n",
              "      <td>10.0</td>\n",
              "      <td>0.0</td>\n",
              "      <td>0.0</td>\n",
              "      <td>855.0</td>\n",
              "      <td>1.0</td>\n",
              "    </tr>\n",
              "    <tr>\n",
              "      <th>2</th>\n",
              "      <td>Buildings, Safety Engineering &amp; Env Department</td>\n",
              "      <td>Sims, Martinzie</td>\n",
              "      <td>SANDERS, DERRON</td>\n",
              "      <td>1449.0</td>\n",
              "      <td>LONGFELLOW</td>\n",
              "      <td>23658.0</td>\n",
              "      <td>P.O. BOX</td>\n",
              "      <td>DETROIT</td>\n",
              "      <td>48223</td>\n",
              "      <td>2004-04-26 13:40:00</td>\n",
              "      <td>2005-03-29 10:30:00</td>\n",
              "      <td>9-1-36(a)</td>\n",
              "      <td>Failure of owner to obtain certificate of comp...</td>\n",
              "      <td>Not responsible by Dismissal</td>\n",
              "      <td>250.0</td>\n",
              "      <td>0.0</td>\n",
              "      <td>0.0</td>\n",
              "      <td>0.0</td>\n",
              "      <td>0.0</td>\n",
              "      <td>0.0</td>\n",
              "      <td>NaN</td>\n",
              "    </tr>\n",
              "    <tr>\n",
              "      <th>3</th>\n",
              "      <td>Buildings, Safety Engineering &amp; Env Department</td>\n",
              "      <td>Sims, Martinzie</td>\n",
              "      <td>MOROSI, MIKE</td>\n",
              "      <td>1441.0</td>\n",
              "      <td>LONGFELLOW</td>\n",
              "      <td>5.0</td>\n",
              "      <td>ST. CLAIR</td>\n",
              "      <td>DETROIT</td>\n",
              "      <td>48214</td>\n",
              "      <td>2004-04-26 13:30:00</td>\n",
              "      <td>NaN</td>\n",
              "      <td>9-1-36(a)</td>\n",
              "      <td>Failure of owner to obtain certificate of comp...</td>\n",
              "      <td>Not responsible by City Dismissal</td>\n",
              "      <td>250.0</td>\n",
              "      <td>0.0</td>\n",
              "      <td>0.0</td>\n",
              "      <td>0.0</td>\n",
              "      <td>0.0</td>\n",
              "      <td>0.0</td>\n",
              "      <td>NaN</td>\n",
              "    </tr>\n",
              "    <tr>\n",
              "      <th>4</th>\n",
              "      <td>Buildings, Safety Engineering &amp; Env Department</td>\n",
              "      <td>Sims, Martinzie</td>\n",
              "      <td>NATHANIEL, NEAL</td>\n",
              "      <td>2449.0</td>\n",
              "      <td>CHURCHILL</td>\n",
              "      <td>7449.0</td>\n",
              "      <td>CHURCHILL</td>\n",
              "      <td>DETROIT</td>\n",
              "      <td>48206</td>\n",
              "      <td>2004-04-26 13:00:00</td>\n",
              "      <td>2005-03-29 10:30:00</td>\n",
              "      <td>9-1-36(a)</td>\n",
              "      <td>Failure of owner to obtain certificate of comp...</td>\n",
              "      <td>Not responsible by Dismissal</td>\n",
              "      <td>250.0</td>\n",
              "      <td>0.0</td>\n",
              "      <td>0.0</td>\n",
              "      <td>0.0</td>\n",
              "      <td>0.0</td>\n",
              "      <td>0.0</td>\n",
              "      <td>NaN</td>\n",
              "    </tr>\n",
              "  </tbody>\n",
              "</table>\n",
              "</div>"
            ],
            "text/plain": [
              "                                      agency_name  ... compliance\n",
              "0  Buildings, Safety Engineering & Env Department  ...        0.0\n",
              "1  Buildings, Safety Engineering & Env Department  ...        1.0\n",
              "2  Buildings, Safety Engineering & Env Department  ...        NaN\n",
              "3  Buildings, Safety Engineering & Env Department  ...        NaN\n",
              "4  Buildings, Safety Engineering & Env Department  ...        NaN\n",
              "\n",
              "[5 rows x 21 columns]"
            ]
          },
          "metadata": {
            "tags": []
          },
          "execution_count": 136
        }
      ]
    },
    {
      "cell_type": "markdown",
      "metadata": {
        "id": "Wu0lgVYcJZTg"
      },
      "source": [
        "### 4.2 Dropping variables with too many unique values"
      ]
    },
    {
      "cell_type": "code",
      "metadata": {
        "colab": {
          "base_uri": "https://localhost:8080/",
          "height": 508
        },
        "id": "OJc8Nbi-XXln",
        "outputId": "f6623cf0-dd79-494e-b333-ef6003b95486"
      },
      "source": [
        "unique_lens = []\r\n",
        "for var in train_df.columns:\r\n",
        "  #print (var,len(train_df[var].unique()))\r\n",
        "  unique_lens.append(len(train_df[var].unique()))\r\n",
        "\r\n",
        "plt.figure(figsize=(12,6))\r\n",
        "plt.bar(train_df.columns,unique_lens,alpha=0.7)\r\n",
        "plt.xticks(rotation=90)\r\n",
        "plt.show()"
      ],
      "execution_count": 137,
      "outputs": [
        {
          "output_type": "display_data",
          "data": {
            "image/png": "[encoded data removed]",
            "text/plain": [
              "<Figure size 864x432 with 1 Axes>"
            ]
          },
          "metadata": {
            "tags": [],
            "needs_background": "light"
          }
        }
      ]
    },
    {
      "cell_type": "code",
      "metadata": {
        "colab": {
          "base_uri": "https://localhost:8080/"
        },
        "id": "aNbMcY4R7U8U",
        "outputId": "431a1f33-e257-4e98-e57c-49d8085694a4"
      },
      "source": [
        "#Exploring the unique values for categorical variables that have relatively lower categories\r\n",
        "print (len(train_df['violation_code'].unique()))\r\n",
        "print (len(train_df['violation_description'].unique()))\r\n",
        "print (len(train_df['violation_street_name'].unique()))\r\n",
        "print (len(train_df['disposition'].unique()))\r\n",
        "print (len(train_df['zip_code'].unique()))\r\n",
        "print (len(train_df['inspector_name'].unique()))"
      ],
      "execution_count": 138,
      "outputs": [
        {
          "output_type": "stream",
          "text": [
            "235\n",
            "258\n",
            "1791\n",
            "9\n",
            "5643\n",
            "173\n"
          ],
          "name": "stdout"
        }
      ]
    },
    {
      "cell_type": "markdown",
      "metadata": {
        "id": "gJ95w88cZpFG"
      },
      "source": [
        "Variables that contain too many unique values to be useful for prediction: \r\n",
        "\r\n",
        "1. violator_name\r\n",
        "2. violation_street_number\r\n",
        "3. mailing_address_str_number\r\n",
        "4. mailing_address_str_name\r\n",
        "5. violation_street_name\r\n",
        "6. violation_code\r\n",
        "7. violation_description\r\n",
        "8. zip_code\r\n",
        "\r\n",
        "Note: We can keep *ticket_issued_date* since we will be using it later for feature engineering. \r\n"
      ]
    },
    {
      "cell_type": "code",
      "metadata": {
        "colab": {
          "base_uri": "https://localhost:8080/",
          "height": 204
        },
        "id": "CuHGxyBDaikt",
        "outputId": "52def27d-b987-4605-a5c0-52ec202798e6"
      },
      "source": [
        "train_df = train_df.drop(['violator_name','violation_street_number','mailing_address_str_number',\r\n",
        "                          'mailing_address_str_name','violation_street_name',\r\n",
        "                          'violation_code','violation_description','zip_code','inspector_name'],axis=1)\r\n",
        "test_df = test_df.drop(['violator_name','violation_street_number','mailing_address_str_number',\r\n",
        "                          'mailing_address_str_name','violation_street_name',\r\n",
        "                          'violation_code','violation_description','zip_code','inspector_name'],axis=1)\r\n",
        "train_df.head()"
      ],
      "execution_count": 139,
      "outputs": [
        {
          "output_type": "execute_result",
          "data": {
            "text/html": [
              "<div>\n",
              "<style scoped>\n",
              "    .dataframe tbody tr th:only-of-type {\n",
              "        vertical-align: middle;\n",
              "    }\n",
              "\n",
              "    .dataframe tbody tr th {\n",
              "        vertical-align: top;\n",
              "    }\n",
              "\n",
              "    .dataframe thead th {\n",
              "        text-align: right;\n",
              "    }\n",
              "</style>\n",
              "<table border=\"1\" class=\"dataframe\">\n",
              "  <thead>\n",
              "    <tr style=\"text-align: right;\">\n",
              "      <th></th>\n",
              "      <th>agency_name</th>\n",
              "      <th>city</th>\n",
              "      <th>ticket_issued_date</th>\n",
              "      <th>hearing_date</th>\n",
              "      <th>disposition</th>\n",
              "      <th>fine_amount</th>\n",
              "      <th>admin_fee</th>\n",
              "      <th>state_fee</th>\n",
              "      <th>discount_amount</th>\n",
              "      <th>clean_up_cost</th>\n",
              "      <th>judgment_amount</th>\n",
              "      <th>compliance</th>\n",
              "    </tr>\n",
              "  </thead>\n",
              "  <tbody>\n",
              "    <tr>\n",
              "      <th>0</th>\n",
              "      <td>Buildings, Safety Engineering &amp; Env Department</td>\n",
              "      <td>CHICAGO</td>\n",
              "      <td>2004-03-16 11:40:00</td>\n",
              "      <td>2005-03-21 10:30:00</td>\n",
              "      <td>Responsible by Default</td>\n",
              "      <td>250.0</td>\n",
              "      <td>20.0</td>\n",
              "      <td>10.0</td>\n",
              "      <td>0.0</td>\n",
              "      <td>0.0</td>\n",
              "      <td>305.0</td>\n",
              "      <td>0.0</td>\n",
              "    </tr>\n",
              "    <tr>\n",
              "      <th>1</th>\n",
              "      <td>Buildings, Safety Engineering &amp; Env Department</td>\n",
              "      <td>Detroit</td>\n",
              "      <td>2004-04-23 12:30:00</td>\n",
              "      <td>2005-05-06 13:30:00</td>\n",
              "      <td>Responsible by Determination</td>\n",
              "      <td>750.0</td>\n",
              "      <td>20.0</td>\n",
              "      <td>10.0</td>\n",
              "      <td>0.0</td>\n",
              "      <td>0.0</td>\n",
              "      <td>855.0</td>\n",
              "      <td>1.0</td>\n",
              "    </tr>\n",
              "    <tr>\n",
              "      <th>2</th>\n",
              "      <td>Buildings, Safety Engineering &amp; Env Department</td>\n",
              "      <td>DETROIT</td>\n",
              "      <td>2004-04-26 13:40:00</td>\n",
              "      <td>2005-03-29 10:30:00</td>\n",
              "      <td>Not responsible by Dismissal</td>\n",
              "      <td>250.0</td>\n",
              "      <td>0.0</td>\n",
              "      <td>0.0</td>\n",
              "      <td>0.0</td>\n",
              "      <td>0.0</td>\n",
              "      <td>0.0</td>\n",
              "      <td>NaN</td>\n",
              "    </tr>\n",
              "    <tr>\n",
              "      <th>3</th>\n",
              "      <td>Buildings, Safety Engineering &amp; Env Department</td>\n",
              "      <td>DETROIT</td>\n",
              "      <td>2004-04-26 13:30:00</td>\n",
              "      <td>NaN</td>\n",
              "      <td>Not responsible by City Dismissal</td>\n",
              "      <td>250.0</td>\n",
              "      <td>0.0</td>\n",
              "      <td>0.0</td>\n",
              "      <td>0.0</td>\n",
              "      <td>0.0</td>\n",
              "      <td>0.0</td>\n",
              "      <td>NaN</td>\n",
              "    </tr>\n",
              "    <tr>\n",
              "      <th>4</th>\n",
              "      <td>Buildings, Safety Engineering &amp; Env Department</td>\n",
              "      <td>DETROIT</td>\n",
              "      <td>2004-04-26 13:00:00</td>\n",
              "      <td>2005-03-29 10:30:00</td>\n",
              "      <td>Not responsible by Dismissal</td>\n",
              "      <td>250.0</td>\n",
              "      <td>0.0</td>\n",
              "      <td>0.0</td>\n",
              "      <td>0.0</td>\n",
              "      <td>0.0</td>\n",
              "      <td>0.0</td>\n",
              "      <td>NaN</td>\n",
              "    </tr>\n",
              "  </tbody>\n",
              "</table>\n",
              "</div>"
            ],
            "text/plain": [
              "                                      agency_name  ... compliance\n",
              "0  Buildings, Safety Engineering & Env Department  ...        0.0\n",
              "1  Buildings, Safety Engineering & Env Department  ...        1.0\n",
              "2  Buildings, Safety Engineering & Env Department  ...        NaN\n",
              "3  Buildings, Safety Engineering & Env Department  ...        NaN\n",
              "4  Buildings, Safety Engineering & Env Department  ...        NaN\n",
              "\n",
              "[5 rows x 12 columns]"
            ]
          },
          "metadata": {
            "tags": []
          },
          "execution_count": 139
        }
      ]
    },
    {
      "cell_type": "code",
      "metadata": {
        "colab": {
          "base_uri": "https://localhost:8080/",
          "height": 474
        },
        "id": "KJnKRLzad-a0",
        "outputId": "1b8a8140-47f6-42c0-c3e8-289bc2de025c"
      },
      "source": [
        "unique_lens = []\r\n",
        "for var in train_df.columns:\r\n",
        "  #print (var,len(train_df[var].unique()))\r\n",
        "  unique_lens.append(len(train_df[var].unique()))\r\n",
        "\r\n",
        "plt.figure(figsize=(12,6))\r\n",
        "plt.bar(train_df.columns,unique_lens,alpha=0.7)\r\n",
        "plt.xticks(rotation=90)\r\n",
        "plt.title('Distribution of unique categories in each variable',size=15)\r\n",
        "plt.show()"
      ],
      "execution_count": 140,
      "outputs": [
        {
          "output_type": "display_data",
          "data": {
            "image/png": "[encoded data removed]",
            "text/plain": [
              "<Figure size 864x432 with 1 Axes>"
            ]
          },
          "metadata": {
            "tags": [],
            "needs_background": "light"
          }
        }
      ]
    },
    {
      "cell_type": "markdown",
      "metadata": {
        "id": "yUiMFGGxv6z3"
      },
      "source": [
        "# 5. Cleaning and wrangling"
      ]
    },
    {
      "cell_type": "code",
      "metadata": {
        "colab": {
          "base_uri": "https://localhost:8080/",
          "height": 285
        },
        "id": "_prM_kB0wv4o",
        "outputId": "34afcede-6cd7-4173-d7d7-02ddc760e657"
      },
      "source": [
        "sns.countplot(data=train_df,x='compliance',alpha=0.8)\r\n",
        "plt.xticks(rotation=90)\r\n",
        "plt.show()"
      ],
      "execution_count": 141,
      "outputs": [
        {
          "output_type": "display_data",
          "data": {
            "image/png": "[encoded data removed]",
            "text/plain": [
              "<Figure size 432x288 with 1 Axes>"
            ]
          },
          "metadata": {
            "tags": [],
            "needs_background": "light"
          }
        }
      ]
    },
    {
      "cell_type": "code",
      "metadata": {
        "colab": {
          "base_uri": "https://localhost:8080/"
        },
        "id": "ai77gRztxRBj",
        "outputId": "8fddf982-3d6c-4d78-8461-cc2069dc15e8"
      },
      "source": [
        "#Changing all city entries to upper case to make it simpler\r\n",
        "train_df[\"city\"] = train_df[\"city\"].apply(str.upper)\r\n",
        "\r\n",
        "#Filtering tickets only for the city of Detroit and then dropping the 'city' variable \r\n",
        "#since all instances would be for Detroit\r\n",
        "train_df = train_df[train_df[\"city\"]==\"DETROIT\"]\r\n",
        "train_df = train_df.drop([\"city\"],axis=1)\r\n",
        "test_df = test_df.drop([\"city\"],axis=1)\r\n",
        "\r\n",
        "train_df.info()"
      ],
      "execution_count": 142,
      "outputs": [
        {
          "output_type": "stream",
          "text": [
            "<class 'pandas.core.frame.DataFrame'>\n",
            "Int64Index: 151621 entries, 1 to 250305\n",
            "Data columns (total 11 columns):\n",
            " #   Column              Non-Null Count   Dtype  \n",
            "---  ------              --------------   -----  \n",
            " 0   agency_name         151621 non-null  object \n",
            " 1   ticket_issued_date  151621 non-null  object \n",
            " 2   hearing_date        145058 non-null  object \n",
            " 3   disposition         151621 non-null  object \n",
            " 4   fine_amount         151620 non-null  float64\n",
            " 5   admin_fee           151621 non-null  float64\n",
            " 6   state_fee           151621 non-null  float64\n",
            " 7   discount_amount     151621 non-null  float64\n",
            " 8   clean_up_cost       151621 non-null  float64\n",
            " 9   judgment_amount     151621 non-null  float64\n",
            " 10  compliance          96001 non-null   float64\n",
            "dtypes: float64(7), object(4)\n",
            "memory usage: 13.9+ MB\n"
          ],
          "name": "stdout"
        }
      ]
    },
    {
      "cell_type": "code",
      "metadata": {
        "colab": {
          "base_uri": "https://localhost:8080/"
        },
        "id": "pUAyi7Fuyhwr",
        "outputId": "7646735c-7c69-4e39-de52-b6ea6a49039c"
      },
      "source": [
        "train_df['compliance'].isnull().sum()"
      ],
      "execution_count": 143,
      "outputs": [
        {
          "output_type": "execute_result",
          "data": {
            "text/plain": [
              "55620"
            ]
          },
          "metadata": {
            "tags": []
          },
          "execution_count": 143
        }
      ]
    },
    {
      "cell_type": "code",
      "metadata": {
        "colab": {
          "base_uri": "https://localhost:8080/"
        },
        "id": "fj1B5Jp-v7M-",
        "outputId": "c16bddbc-d1d3-4f3d-be61-b4516abab719"
      },
      "source": [
        "#Removing all 'not found responsible' compliance entries\r\n",
        "train_df = train_df[(train_df[\"compliance\"]==1.0) | (train_df[\"compliance\"]==0.0)]\r\n",
        "\r\n",
        "train_df.info()"
      ],
      "execution_count": 144,
      "outputs": [
        {
          "output_type": "stream",
          "text": [
            "<class 'pandas.core.frame.DataFrame'>\n",
            "Int64Index: 96001 entries, 1 to 250290\n",
            "Data columns (total 11 columns):\n",
            " #   Column              Non-Null Count  Dtype  \n",
            "---  ------              --------------  -----  \n",
            " 0   agency_name         96001 non-null  object \n",
            " 1   ticket_issued_date  96001 non-null  object \n",
            " 2   hearing_date        95884 non-null  object \n",
            " 3   disposition         96001 non-null  object \n",
            " 4   fine_amount         96001 non-null  float64\n",
            " 5   admin_fee           96001 non-null  float64\n",
            " 6   state_fee           96001 non-null  float64\n",
            " 7   discount_amount     96001 non-null  float64\n",
            " 8   clean_up_cost       96001 non-null  float64\n",
            " 9   judgment_amount     96001 non-null  float64\n",
            " 10  compliance          96001 non-null  float64\n",
            "dtypes: float64(7), object(4)\n",
            "memory usage: 8.8+ MB\n"
          ],
          "name": "stdout"
        }
      ]
    },
    {
      "cell_type": "code",
      "metadata": {
        "colab": {
          "base_uri": "https://localhost:8080/",
          "height": 285
        },
        "id": "DudpjUAz06Ke",
        "outputId": "89cb91ca-776f-4f63-8d7f-8b58cbc26d5b"
      },
      "source": [
        "sns.countplot(data=train_df,x='compliance',alpha=0.8)\r\n",
        "plt.xticks(rotation=90)\r\n",
        "plt.show()"
      ],
      "execution_count": 145,
      "outputs": [
        {
          "output_type": "display_data",
          "data": {
            "image/png": "[encoded data removed]",
            "text/plain": [
              "<Figure size 432x288 with 1 Axes>"
            ]
          },
          "metadata": {
            "tags": [],
            "needs_background": "light"
          }
        }
      ]
    },
    {
      "cell_type": "markdown",
      "metadata": {
        "id": "KjaZ2Rl7pv3I"
      },
      "source": [
        "# 5. EDA"
      ]
    },
    {
      "cell_type": "markdown",
      "metadata": {
        "id": "pD_7unO5pw8U"
      },
      "source": [
        "### 5.1 Categorical variables"
      ]
    },
    {
      "cell_type": "code",
      "metadata": {
        "colab": {
          "base_uri": "https://localhost:8080/",
          "height": 513
        },
        "id": "FYSK1gxlpwXs",
        "outputId": "81da9ab4-1a0d-4a56-ec80-f305efe757ec"
      },
      "source": [
        "sns.countplot(data=train_df,x='agency_name',hue='compliance',alpha=0.8)\r\n",
        "plt.xticks(rotation=90)\r\n",
        "plt.show()"
      ],
      "execution_count": 146,
      "outputs": [
        {
          "output_type": "display_data",
          "data": {
            "image/png": "[encoded data removed]",
            "text/plain": [
              "<Figure size 432x288 with 1 Axes>"
            ]
          },
          "metadata": {
            "tags": [],
            "needs_background": "light"
          }
        }
      ]
    },
    {
      "cell_type": "code",
      "metadata": {
        "colab": {
          "base_uri": "https://localhost:8080/",
          "height": 555
        },
        "id": "FZMeVvTW9_aS",
        "outputId": "8646604b-6ab0-4b2e-ac31-6af5dbcbc224"
      },
      "source": [
        "plt.figure(figsize=(8,6))\r\n",
        "sns.countplot(data=train_df,x='disposition',hue='compliance',alpha=0.8)\r\n",
        "plt.xticks(rotation=90)\r\n",
        "plt.show()"
      ],
      "execution_count": 147,
      "outputs": [
        {
          "output_type": "display_data",
          "data": {
            "image/png": "[encoded data removed]",
            "text/plain": [
              "<Figure size 576x432 with 1 Axes>"
            ]
          },
          "metadata": {
            "tags": [],
            "needs_background": "light"
          }
        }
      ]
    },
    {
      "cell_type": "code",
      "metadata": {
        "colab": {
          "base_uri": "https://localhost:8080/",
          "height": 297
        },
        "id": "yLb13o5Y-pms",
        "outputId": "07dacb57-a3da-429d-c0c3-202a24647900"
      },
      "source": [
        "train_df[['disposition','compliance','fine_amount']].groupby(['disposition','compliance']).count()"
      ],
      "execution_count": 148,
      "outputs": [
        {
          "output_type": "execute_result",
          "data": {
            "text/html": [
              "<div>\n",
              "<style scoped>\n",
              "    .dataframe tbody tr th:only-of-type {\n",
              "        vertical-align: middle;\n",
              "    }\n",
              "\n",
              "    .dataframe tbody tr th {\n",
              "        vertical-align: top;\n",
              "    }\n",
              "\n",
              "    .dataframe thead th {\n",
              "        text-align: right;\n",
              "    }\n",
              "</style>\n",
              "<table border=\"1\" class=\"dataframe\">\n",
              "  <thead>\n",
              "    <tr style=\"text-align: right;\">\n",
              "      <th></th>\n",
              "      <th></th>\n",
              "      <th>fine_amount</th>\n",
              "    </tr>\n",
              "    <tr>\n",
              "      <th>disposition</th>\n",
              "      <th>compliance</th>\n",
              "      <th></th>\n",
              "    </tr>\n",
              "  </thead>\n",
              "  <tbody>\n",
              "    <tr>\n",
              "      <th>Responsible (Fine Waived) by Deter</th>\n",
              "      <th>1.0</th>\n",
              "      <td>136</td>\n",
              "    </tr>\n",
              "    <tr>\n",
              "      <th rowspan=\"2\" valign=\"top\">Responsible by Admission</th>\n",
              "      <th>0.0</th>\n",
              "      <td>5444</td>\n",
              "    </tr>\n",
              "    <tr>\n",
              "      <th>1.0</th>\n",
              "      <td>2230</td>\n",
              "    </tr>\n",
              "    <tr>\n",
              "      <th rowspan=\"2\" valign=\"top\">Responsible by Default</th>\n",
              "      <th>0.0</th>\n",
              "      <td>80046</td>\n",
              "    </tr>\n",
              "    <tr>\n",
              "      <th>1.0</th>\n",
              "      <td>2957</td>\n",
              "    </tr>\n",
              "    <tr>\n",
              "      <th rowspan=\"2\" valign=\"top\">Responsible by Determination</th>\n",
              "      <th>0.0</th>\n",
              "      <td>3669</td>\n",
              "    </tr>\n",
              "    <tr>\n",
              "      <th>1.0</th>\n",
              "      <td>1519</td>\n",
              "    </tr>\n",
              "  </tbody>\n",
              "</table>\n",
              "</div>"
            ],
            "text/plain": [
              "                                               fine_amount\n",
              "disposition                        compliance             \n",
              "Responsible (Fine Waived) by Deter 1.0                 136\n",
              "Responsible by Admission           0.0                5444\n",
              "                                   1.0                2230\n",
              "Responsible by Default             0.0               80046\n",
              "                                   1.0                2957\n",
              "Responsible by Determination       0.0                3669\n",
              "                                   1.0                1519"
            ]
          },
          "metadata": {
            "tags": []
          },
          "execution_count": 148
        }
      ]
    },
    {
      "cell_type": "markdown",
      "metadata": {
        "id": "PZmoVSfRCpFD"
      },
      "source": [
        "### 5.2 Numerical variables"
      ]
    },
    {
      "cell_type": "code",
      "metadata": {
        "colab": {
          "base_uri": "https://localhost:8080/"
        },
        "id": "kUrXGjrxCpaQ",
        "outputId": "0294c6b4-a642-45ce-a400-fbf2b3ee25b8"
      },
      "source": [
        "train_df.columns"
      ],
      "execution_count": 149,
      "outputs": [
        {
          "output_type": "execute_result",
          "data": {
            "text/plain": [
              "Index(['agency_name', 'ticket_issued_date', 'hearing_date', 'disposition',\n",
              "       'fine_amount', 'admin_fee', 'state_fee', 'discount_amount',\n",
              "       'clean_up_cost', 'judgment_amount', 'compliance'],\n",
              "      dtype='object')"
            ]
          },
          "metadata": {
            "tags": []
          },
          "execution_count": 149
        }
      ]
    },
    {
      "cell_type": "code",
      "metadata": {
        "colab": {
          "base_uri": "https://localhost:8080/",
          "height": 405
        },
        "id": "zZ-LkhP4CyHb",
        "outputId": "2d5328af-9fac-4255-bcd3-48f66db1e7fd"
      },
      "source": [
        "plt.figure(figsize=(12,6))\r\n",
        "plt.subplot(1,2,1)\r\n",
        "sns.boxplot(data=train_df,y='fine_amount',x='compliance')\r\n",
        "plt.subplot(1,2,2)\r\n",
        "sns.boxplot(data=train_df[train_df['fine_amount']<1000],y='fine_amount',x='compliance')"
      ],
      "execution_count": 150,
      "outputs": [
        {
          "output_type": "execute_result",
          "data": {
            "text/plain": [
              "<matplotlib.axes._subplots.AxesSubplot at 0x7f7ba64ab4a8>"
            ]
          },
          "metadata": {
            "tags": []
          },
          "execution_count": 150
        },
        {
          "output_type": "display_data",
          "data": {
            "image/png": "[encoded data removed]",
            "text/plain": [
              "<Figure size 864x432 with 2 Axes>"
            ]
          },
          "metadata": {
            "tags": [],
            "needs_background": "light"
          }
        }
      ]
    },
    {
      "cell_type": "code",
      "metadata": {
        "colab": {
          "base_uri": "https://localhost:8080/",
          "height": 296
        },
        "id": "-cLSwzQVFaZ5",
        "outputId": "681cce7e-2e81-4851-e76b-cd50e66fba18"
      },
      "source": [
        "sns.boxplot(data=train_df,y='admin_fee',x='compliance')"
      ],
      "execution_count": 151,
      "outputs": [
        {
          "output_type": "execute_result",
          "data": {
            "text/plain": [
              "<matplotlib.axes._subplots.AxesSubplot at 0x7f7ba6507860>"
            ]
          },
          "metadata": {
            "tags": []
          },
          "execution_count": 151
        },
        {
          "output_type": "display_data",
          "data": {
            "image/png": "[encoded data removed]",
            "text/plain": [
              "<Figure size 432x288 with 1 Axes>"
            ]
          },
          "metadata": {
            "tags": [],
            "needs_background": "light"
          }
        }
      ]
    },
    {
      "cell_type": "code",
      "metadata": {
        "colab": {
          "base_uri": "https://localhost:8080/",
          "height": 336
        },
        "id": "AkSdRt6_FgsH",
        "outputId": "046597d9-bd90-4ab3-823b-ef77b94890eb"
      },
      "source": [
        "plt.hist(train_df['admin_fee'])"
      ],
      "execution_count": 152,
      "outputs": [
        {
          "output_type": "execute_result",
          "data": {
            "text/plain": [
              "(array([    0.,     0.,     0.,     0.,     0., 96001.,     0.,     0.,\n",
              "            0.,     0.]),\n",
              " array([19.5, 19.6, 19.7, 19.8, 19.9, 20. , 20.1, 20.2, 20.3, 20.4, 20.5]),\n",
              " <a list of 10 Patch objects>)"
            ]
          },
          "metadata": {
            "tags": []
          },
          "execution_count": 152
        },
        {
          "output_type": "display_data",
          "data": {
            "image/png": "[encoded data removed]",
            "text/plain": [
              "<Figure size 432x288 with 1 Axes>"
            ]
          },
          "metadata": {
            "tags": [],
            "needs_background": "light"
          }
        }
      ]
    },
    {
      "cell_type": "code",
      "metadata": {
        "colab": {
          "base_uri": "https://localhost:8080/",
          "height": 282
        },
        "id": "OfhUtQ20GaEc",
        "outputId": "1ee190fc-0abe-41cd-f2f2-559f99d25083"
      },
      "source": [
        "plt.scatter(range(len(train_df['admin_fee'])),train_df['admin_fee'])"
      ],
      "execution_count": 153,
      "outputs": [
        {
          "output_type": "execute_result",
          "data": {
            "text/plain": [
              "<matplotlib.collections.PathCollection at 0x7f7bb0285208>"
            ]
          },
          "metadata": {
            "tags": []
          },
          "execution_count": 153
        },
        {
          "output_type": "display_data",
          "data": {
            "image/png": "[encoded data removed]",
            "text/plain": [
              "<Figure size 432x288 with 1 Axes>"
            ]
          },
          "metadata": {
            "tags": [],
            "needs_background": "light"
          }
        }
      ]
    },
    {
      "cell_type": "markdown",
      "metadata": {
        "id": "hhjhicK_Gk4t"
      },
      "source": [
        "All the admin fees have a value of 20 so this variable doesn't provide much useful information for prediction. "
      ]
    },
    {
      "cell_type": "code",
      "metadata": {
        "colab": {
          "base_uri": "https://localhost:8080/",
          "height": 296
        },
        "id": "WN53AQPvHUDc",
        "outputId": "bd0964b4-c9da-4e9a-b466-04974ad2d1d0"
      },
      "source": [
        "sns.boxplot(data=train_df,y='state_fee',x='compliance')"
      ],
      "execution_count": 154,
      "outputs": [
        {
          "output_type": "execute_result",
          "data": {
            "text/plain": [
              "<matplotlib.axes._subplots.AxesSubplot at 0x7f7ba550def0>"
            ]
          },
          "metadata": {
            "tags": []
          },
          "execution_count": 154
        },
        {
          "output_type": "display_data",
          "data": {
            "image/png": "[encoded data removed]",
            "text/plain": [
              "<Figure size 432x288 with 1 Axes>"
            ]
          },
          "metadata": {
            "tags": [],
            "needs_background": "light"
          }
        }
      ]
    },
    {
      "cell_type": "code",
      "metadata": {
        "colab": {
          "base_uri": "https://localhost:8080/",
          "height": 282
        },
        "id": "pY7sUXUKHc21",
        "outputId": "90e303dc-8778-493b-8ee1-11733ab0a9dc"
      },
      "source": [
        "plt.scatter(range(len(train_df['state_fee'])),train_df['state_fee'])"
      ],
      "execution_count": 155,
      "outputs": [
        {
          "output_type": "execute_result",
          "data": {
            "text/plain": [
              "<matplotlib.collections.PathCollection at 0x7f7baca31128>"
            ]
          },
          "metadata": {
            "tags": []
          },
          "execution_count": 155
        },
        {
          "output_type": "display_data",
          "data": {
            "image/png": "[encoded data removed]",
            "text/plain": [
              "<Figure size 432x288 with 1 Axes>"
            ]
          },
          "metadata": {
            "tags": [],
            "needs_background": "light"
          }
        }
      ]
    },
    {
      "cell_type": "markdown",
      "metadata": {
        "id": "w0j8JXn1HhXN"
      },
      "source": [
        "Same issue as admin fee. "
      ]
    },
    {
      "cell_type": "code",
      "metadata": {
        "colab": {
          "base_uri": "https://localhost:8080/",
          "height": 405
        },
        "id": "3_LiIPEBHjUS",
        "outputId": "293818db-b3fc-4ac1-f807-1e857274b8fc"
      },
      "source": [
        "plt.figure(figsize=(12,6))\r\n",
        "plt.subplot(1,2,1)\r\n",
        "sns.boxplot(data=train_df,y='discount_amount',x='compliance')\r\n",
        "plt.subplot(1,2,2)\r\n",
        "sns.boxplot(data=train_df[train_df['discount_amount']!=0],y='discount_amount',x='compliance')"
      ],
      "execution_count": 156,
      "outputs": [
        {
          "output_type": "execute_result",
          "data": {
            "text/plain": [
              "<matplotlib.axes._subplots.AxesSubplot at 0x7f7bac6bcc88>"
            ]
          },
          "metadata": {
            "tags": []
          },
          "execution_count": 156
        },
        {
          "output_type": "display_data",
          "data": {
            "image/png": "[encoded data removed]",
            "text/plain": [
              "<Figure size 864x432 with 2 Axes>"
            ]
          },
          "metadata": {
            "tags": [],
            "needs_background": "light"
          }
        }
      ]
    },
    {
      "cell_type": "code",
      "metadata": {
        "colab": {
          "base_uri": "https://localhost:8080/",
          "height": 282
        },
        "id": "ZLia5rZIIKkx",
        "outputId": "c68faa13-1cbd-462f-e88d-9f845c3db2ef"
      },
      "source": [
        "plt.scatter(range(len(train_df['discount_amount'])),train_df['discount_amount'])"
      ],
      "execution_count": 157,
      "outputs": [
        {
          "output_type": "execute_result",
          "data": {
            "text/plain": [
              "<matplotlib.collections.PathCollection at 0x7f7bab8c5cc0>"
            ]
          },
          "metadata": {
            "tags": []
          },
          "execution_count": 157
        },
        {
          "output_type": "display_data",
          "data": {
            "image/png": "[encoded data removed]",
            "text/plain": [
              "<Figure size 432x288 with 1 Axes>"
            ]
          },
          "metadata": {
            "tags": [],
            "needs_background": "light"
          }
        }
      ]
    },
    {
      "cell_type": "code",
      "metadata": {
        "colab": {
          "base_uri": "https://localhost:8080/",
          "height": 296
        },
        "id": "FH2yVC3MLWjk",
        "outputId": "93a29835-c1b3-41b0-c527-c7bbab3ebb47"
      },
      "source": [
        "sns.boxplot(data=train_df,y='clean_up_cost',x='compliance')"
      ],
      "execution_count": 158,
      "outputs": [
        {
          "output_type": "execute_result",
          "data": {
            "text/plain": [
              "<matplotlib.axes._subplots.AxesSubplot at 0x7f7bab8b4400>"
            ]
          },
          "metadata": {
            "tags": []
          },
          "execution_count": 158
        },
        {
          "output_type": "display_data",
          "data": {
            "image/png": "[encoded data removed]",
            "text/plain": [
              "<Figure size 432x288 with 1 Axes>"
            ]
          },
          "metadata": {
            "tags": [],
            "needs_background": "light"
          }
        }
      ]
    },
    {
      "cell_type": "code",
      "metadata": {
        "colab": {
          "base_uri": "https://localhost:8080/",
          "height": 282
        },
        "id": "WNFEG4BZNzmA",
        "outputId": "683b3a60-a1f9-4ef4-cf3e-6a14bc2aeacf"
      },
      "source": [
        "plt.scatter(range(len(train_df['clean_up_cost'])),train_df['clean_up_cost'])"
      ],
      "execution_count": 159,
      "outputs": [
        {
          "output_type": "execute_result",
          "data": {
            "text/plain": [
              "<matplotlib.collections.PathCollection at 0x7f7bacb92e80>"
            ]
          },
          "metadata": {
            "tags": []
          },
          "execution_count": 159
        },
        {
          "output_type": "display_data",
          "data": {
            "image/png": "[encoded data removed]",
            "text/plain": [
              "<Figure size 432x288 with 1 Axes>"
            ]
          },
          "metadata": {
            "tags": [],
            "needs_background": "light"
          }
        }
      ]
    },
    {
      "cell_type": "code",
      "metadata": {
        "colab": {
          "base_uri": "https://localhost:8080/",
          "height": 405
        },
        "id": "fV9MMWy-Lc-c",
        "outputId": "09b13a79-c4f3-47b5-ed21-56c62d3f4ab7"
      },
      "source": [
        "plt.figure(figsize=(12,6))\r\n",
        "plt.subplot(1,2,1)\r\n",
        "sns.boxplot(data=train_df,y='judgment_amount',x='compliance')\r\n",
        "plt.subplot(1,2,2)\r\n",
        "sns.boxplot(data=train_df[train_df['judgment_amount']<2000],y='judgment_amount',x='compliance')"
      ],
      "execution_count": 160,
      "outputs": [
        {
          "output_type": "execute_result",
          "data": {
            "text/plain": [
              "<matplotlib.axes._subplots.AxesSubplot at 0x7f7bacb20780>"
            ]
          },
          "metadata": {
            "tags": []
          },
          "execution_count": 160
        },
        {
          "output_type": "display_data",
          "data": {
            "image/png": "[encoded data removed]",
            "text/plain": [
              "<Figure size 864x432 with 2 Axes>"
            ]
          },
          "metadata": {
            "tags": [],
            "needs_background": "light"
          }
        }
      ]
    },
    {
      "cell_type": "code",
      "metadata": {
        "colab": {
          "base_uri": "https://localhost:8080/",
          "height": 282
        },
        "id": "qCL9E1u8Lugy",
        "outputId": "6b92352e-e73e-4936-9177-5729549d39a6"
      },
      "source": [
        "plt.scatter(train_df['judgment_amount'],train_df['fine_amount'])"
      ],
      "execution_count": 161,
      "outputs": [
        {
          "output_type": "execute_result",
          "data": {
            "text/plain": [
              "<matplotlib.collections.PathCollection at 0x7f7bac797e10>"
            ]
          },
          "metadata": {
            "tags": []
          },
          "execution_count": 161
        },
        {
          "output_type": "display_data",
          "data": {
            "image/png": "[encoded data removed]",
            "text/plain": [
              "<Figure size 432x288 with 1 Axes>"
            ]
          },
          "metadata": {
            "tags": [],
            "needs_background": "light"
          }
        }
      ]
    },
    {
      "cell_type": "code",
      "metadata": {
        "colab": {
          "base_uri": "https://localhost:8080/"
        },
        "id": "RiT37F1mL35I",
        "outputId": "963f63da-0417-4d70-e6e9-41619deb16f3"
      },
      "source": [
        "np.corrcoef(train_df['judgment_amount'],train_df['fine_amount'])"
      ],
      "execution_count": 162,
      "outputs": [
        {
          "output_type": "execute_result",
          "data": {
            "text/plain": [
              "array([[1.        , 0.99990275],\n",
              "       [0.99990275, 1.        ]])"
            ]
          },
          "metadata": {
            "tags": []
          },
          "execution_count": 162
        }
      ]
    },
    {
      "cell_type": "markdown",
      "metadata": {
        "id": "EHJIFli3na39"
      },
      "source": [
        "The variable *fine_amount* and *judgement_amount* are highly correlated and keeping both variables may not provide a lot more information to the model. "
      ]
    },
    {
      "cell_type": "markdown",
      "metadata": {
        "id": "c3fvyuBVZffg"
      },
      "source": [
        "# 5. Data pre-processing"
      ]
    },
    {
      "cell_type": "markdown",
      "metadata": {
        "id": "X2Hsju1HqMMs"
      },
      "source": [
        "### 5.1 Feature selection"
      ]
    },
    {
      "cell_type": "code",
      "metadata": {
        "colab": {
          "base_uri": "https://localhost:8080/",
          "height": 204
        },
        "id": "lo1Rk15MqMo2",
        "outputId": "bd06be69-21c9-47af-f41c-fdebbef64e51"
      },
      "source": [
        "train_df = train_df.drop(['admin_fee','state_fee','clean_up_cost'],axis=1)\r\n",
        "test_df = test_df.drop(['admin_fee','state_fee','clean_up_cost'],axis=1)\r\n",
        "train_df.head()"
      ],
      "execution_count": 163,
      "outputs": [
        {
          "output_type": "execute_result",
          "data": {
            "text/html": [
              "<div>\n",
              "<style scoped>\n",
              "    .dataframe tbody tr th:only-of-type {\n",
              "        vertical-align: middle;\n",
              "    }\n",
              "\n",
              "    .dataframe tbody tr th {\n",
              "        vertical-align: top;\n",
              "    }\n",
              "\n",
              "    .dataframe thead th {\n",
              "        text-align: right;\n",
              "    }\n",
              "</style>\n",
              "<table border=\"1\" class=\"dataframe\">\n",
              "  <thead>\n",
              "    <tr style=\"text-align: right;\">\n",
              "      <th></th>\n",
              "      <th>agency_name</th>\n",
              "      <th>ticket_issued_date</th>\n",
              "      <th>hearing_date</th>\n",
              "      <th>disposition</th>\n",
              "      <th>fine_amount</th>\n",
              "      <th>discount_amount</th>\n",
              "      <th>judgment_amount</th>\n",
              "      <th>compliance</th>\n",
              "    </tr>\n",
              "  </thead>\n",
              "  <tbody>\n",
              "    <tr>\n",
              "      <th>1</th>\n",
              "      <td>Buildings, Safety Engineering &amp; Env Department</td>\n",
              "      <td>2004-04-23 12:30:00</td>\n",
              "      <td>2005-05-06 13:30:00</td>\n",
              "      <td>Responsible by Determination</td>\n",
              "      <td>750.0</td>\n",
              "      <td>0.0</td>\n",
              "      <td>855.0</td>\n",
              "      <td>1.0</td>\n",
              "    </tr>\n",
              "    <tr>\n",
              "      <th>7</th>\n",
              "      <td>Buildings, Safety Engineering &amp; Env Department</td>\n",
              "      <td>2004-06-16 12:30:00</td>\n",
              "      <td>2005-02-22 15:00:00</td>\n",
              "      <td>Responsible by Default</td>\n",
              "      <td>100.0</td>\n",
              "      <td>0.0</td>\n",
              "      <td>140.0</td>\n",
              "      <td>0.0</td>\n",
              "    </tr>\n",
              "    <tr>\n",
              "      <th>8</th>\n",
              "      <td>Buildings, Safety Engineering &amp; Env Department</td>\n",
              "      <td>2004-06-16 12:25:00</td>\n",
              "      <td>2005-02-22 15:00:00</td>\n",
              "      <td>Responsible by Default</td>\n",
              "      <td>100.0</td>\n",
              "      <td>0.0</td>\n",
              "      <td>140.0</td>\n",
              "      <td>0.0</td>\n",
              "    </tr>\n",
              "    <tr>\n",
              "      <th>9</th>\n",
              "      <td>Buildings, Safety Engineering &amp; Env Department</td>\n",
              "      <td>2004-07-12 13:30:00</td>\n",
              "      <td>2005-05-31 13:30:00</td>\n",
              "      <td>Responsible by Default</td>\n",
              "      <td>750.0</td>\n",
              "      <td>0.0</td>\n",
              "      <td>855.0</td>\n",
              "      <td>0.0</td>\n",
              "    </tr>\n",
              "    <tr>\n",
              "      <th>12</th>\n",
              "      <td>Buildings, Safety Engineering &amp; Env Department</td>\n",
              "      <td>2004-07-28 12:15:00</td>\n",
              "      <td>2005-02-22 15:00:00</td>\n",
              "      <td>Responsible by Default</td>\n",
              "      <td>750.0</td>\n",
              "      <td>0.0</td>\n",
              "      <td>855.0</td>\n",
              "      <td>0.0</td>\n",
              "    </tr>\n",
              "  </tbody>\n",
              "</table>\n",
              "</div>"
            ],
            "text/plain": [
              "                                       agency_name  ... compliance\n",
              "1   Buildings, Safety Engineering & Env Department  ...        1.0\n",
              "7   Buildings, Safety Engineering & Env Department  ...        0.0\n",
              "8   Buildings, Safety Engineering & Env Department  ...        0.0\n",
              "9   Buildings, Safety Engineering & Env Department  ...        0.0\n",
              "12  Buildings, Safety Engineering & Env Department  ...        0.0\n",
              "\n",
              "[5 rows x 8 columns]"
            ]
          },
          "metadata": {
            "tags": []
          },
          "execution_count": 163
        }
      ]
    },
    {
      "cell_type": "markdown",
      "metadata": {
        "id": "ecHDUYnjt5Ni"
      },
      "source": [
        "### 5.2 Feature engineering"
      ]
    },
    {
      "cell_type": "code",
      "metadata": {
        "id": "247n85E4t4fJ"
      },
      "source": [
        "#Creating a new variable for storing the time difference between the ticket issued date and hearing date\r\n",
        "#And converting the difference into days for easier calculation\r\n",
        "train_df[\"ticket_issued_date\"] = train_df.apply(lambda x: pd.to_datetime(x[1]),axis=1)\r\n",
        "train_df[\"hearing_date\"] = train_df.apply(lambda x: pd.to_datetime(x[2]),axis=1)\r\n",
        "test_df[\"ticket_issued_date\"] = test_df.apply(lambda x: pd.to_datetime(x[1]),axis=1)\r\n",
        "test_df[\"hearing_date\"] = test_df.apply(lambda x: pd.to_datetime(x[2]),axis=1)\r\n",
        "train_df[\"time_to_hearing\"] = train_df[\"hearing_date\"] - train_df[\"ticket_issued_date\"]\r\n",
        "test_df[\"time_to_hearing\"] = test_df[\"hearing_date\"] - test_df[\"ticket_issued_date\"]\r\n",
        "\r\n",
        "test_df[\"time_to_hearing\"] = test_df[\"time_to_hearing\"].map(str)\r\n",
        "test_df[\"time_to_hearing\"] = test_df[\"time_to_hearing\"].replace('NaT',str(pd.Timestamp('1/1/18')-pd.Timestamp('1/1/18')))\r\n",
        "test_df[\"time_to_hearing\"] = test_df[\"time_to_hearing\"].map(pd.Timedelta)\r\n",
        "\r\n",
        "train_df[\"time_to_hearing\"] = train_df[\"time_to_hearing\"].apply(lambda x: x.days)\r\n",
        "test_df[\"time_to_hearing\"] = test_df[\"time_to_hearing\"].apply(lambda x: x.days)\r\n",
        "\r\n",
        "#Separating the 'ticket_id' column\r\n",
        "#ticket_id_train = train_df[\"ticket_id\"]\r\n",
        "#ticket_id_test = test_df[\"ticket_id\"]\r\n",
        "#train_df = train_df.drop([\"ticket_id\"],axis=1)\r\n",
        "#test_df = test_df.drop([\"ticket_id\"],axis=1)"
      ],
      "execution_count": 164,
      "outputs": []
    },
    {
      "cell_type": "code",
      "metadata": {
        "colab": {
          "base_uri": "https://localhost:8080/"
        },
        "id": "YvVgGFoHDZcv",
        "outputId": "2672e096-b5c4-4155-d7d7-b0a3156ae6b0"
      },
      "source": [
        "print (train_df.head())\r\n",
        "print (train_df.shape)"
      ],
      "execution_count": 165,
      "outputs": [
        {
          "output_type": "stream",
          "text": [
            "                                       agency_name  ... time_to_hearing\n",
            "1   Buildings, Safety Engineering & Env Department  ...           378.0\n",
            "7   Buildings, Safety Engineering & Env Department  ...           251.0\n",
            "8   Buildings, Safety Engineering & Env Department  ...           251.0\n",
            "9   Buildings, Safety Engineering & Env Department  ...           323.0\n",
            "12  Buildings, Safety Engineering & Env Department  ...           209.0\n",
            "\n",
            "[5 rows x 9 columns]\n",
            "(96001, 9)\n"
          ],
          "name": "stdout"
        }
      ]
    },
    {
      "cell_type": "markdown",
      "metadata": {
        "id": "HmNHTHQ5_gUJ"
      },
      "source": [
        "### 5.3 Handling missing values"
      ]
    },
    {
      "cell_type": "code",
      "metadata": {
        "id": "45S-n6RD_fgQ"
      },
      "source": [
        "#Dropping all the 'Nan' instances from the training set\r\n",
        "train_df = train_df.dropna()\r\n",
        "\r\n",
        "#Removing original time variables\r\n",
        "train_df = train_df.drop([\"ticket_issued_date\",\"hearing_date\"],axis=1)\r\n",
        "test_df = test_df.drop([\"ticket_issued_date\",\"hearing_date\"],axis=1)"
      ],
      "execution_count": 166,
      "outputs": []
    },
    {
      "cell_type": "code",
      "metadata": {
        "id": "NUpAwMJd6OTE"
      },
      "source": [
        "train_df.index = range(train_df.shape[0])"
      ],
      "execution_count": 167,
      "outputs": []
    },
    {
      "cell_type": "markdown",
      "metadata": {
        "id": "CbXOO4dWmkMY"
      },
      "source": [
        "### 5.4 Label encoding"
      ]
    },
    {
      "cell_type": "code",
      "metadata": {
        "id": "gjDZAZaumo0z"
      },
      "source": [
        "#Label encoding categorical variables\r\n",
        "le = LabelEncoder()\r\n",
        "ohe = OneHotEncoder()\r\n",
        "\r\n",
        "le.fit(train_df[\"agency_name\"].append(test_df[\"agency_name\"]))\r\n",
        "train_df[\"agency_name\"] = le.transform(train_df[\"agency_name\"])\r\n",
        "test_df[\"agency_name\"] = le.transform(test_df[\"agency_name\"])\r\n",
        "\r\n",
        "le.fit(train_df[\"disposition\"].append(test_df[\"disposition\"]))\r\n",
        "train_df[\"disposition\"] = le.transform(train_df[\"disposition\"])\r\n",
        "test_df[\"disposition\"] = le.transform(test_df[\"disposition\"])"
      ],
      "execution_count": 168,
      "outputs": []
    },
    {
      "cell_type": "markdown",
      "metadata": {
        "id": "6A4Y9kZe0cPn"
      },
      "source": [
        "### 5.5 Data preparation"
      ]
    },
    {
      "cell_type": "code",
      "metadata": {
        "id": "2yImyT6F0bmO",
        "colab": {
          "base_uri": "https://localhost:8080/"
        },
        "outputId": "88176bd3-c5bf-4d34-e219-52f24b260eae"
      },
      "source": [
        "#Splitting the training dataset into features and target variables\r\n",
        "y = train_df[\"compliance\"]\r\n",
        "x = train_df.drop([\"compliance\"],axis=1)\r\n",
        "\r\n",
        "#Train/Test Split\r\n",
        "x_train,x_test,y_train,y_test = train_test_split(x,y,random_state=0)\r\n",
        "\r\n",
        "#Normalization using MinMax scaler\r\n",
        "#scaler = MinMaxScaler()\r\n",
        "#X_train_scaled = scaler.fit_transform(X_train)\r\n",
        "#X_test_scaled = scaler.transform(X_test)\r\n",
        "\r\n",
        "#for i in [0.1]:\r\n",
        "#    for j in [25,30,35,40,45,50]:\r\n",
        "#        for k in [5,6,7,8,9,10]:\r\n",
        "\r\n",
        "print (x_train.shape)\r\n",
        "print (x_test.shape)\r\n",
        "print (y_train.shape)\r\n",
        "print (y_test.shape)"
      ],
      "execution_count": 169,
      "outputs": [
        {
          "output_type": "stream",
          "text": [
            "(71913, 6)\n",
            "(23971, 6)\n",
            "(71913,)\n",
            "(23971,)\n"
          ],
          "name": "stdout"
        }
      ]
    },
    {
      "cell_type": "markdown",
      "metadata": {
        "id": "tyg0a7HRgKn-"
      },
      "source": [
        "# 6. Modeling"
      ]
    },
    {
      "cell_type": "code",
      "metadata": {
        "id": "2U51ysdenzZY"
      },
      "source": [
        "def model_predict(model,x_train,x_test,y_train,y_test):  \r\n",
        "  #model = model\r\n",
        "  model = model.fit(x_train,y_train)\r\n",
        "\r\n",
        "  y_score_eval = model.decision_function(x_test)\r\n",
        "  y_proba_eval = model.predict_proba(x_test)\r\n",
        "  y_score = model.decision_function(x_test)\r\n",
        "  y_proba = model.predict_proba(x_test)\r\n",
        "  fpr, tpr, _ = roc_curve(y_test, y_score_eval)\r\n",
        "  roc_auc = auc(fpr, tpr)\r\n",
        "\r\n",
        "  prediction = model.predict(x_test)\r\n",
        "\r\n",
        "  tn, fp, fn, tp = confusion_matrix(y_test.values, prediction).ravel()\r\n",
        "\r\n",
        "  print (\"ROC AUC: \",roc_auc)\r\n",
        "  print (\"Accuracy: \",accuracy_score(y_test.values,prediction))\r\n",
        "  print (\"Precision: \",precision_score(y_test.values,prediction))\r\n",
        "  print (\"Recall: \",recall_score(y_test.values,prediction))\r\n",
        "  print (\"F1 score: \",f1_score(y_test.values,prediction))\r\n",
        "\r\n",
        "  plot_confusion_matrix(cm           = np.array([[ tp,  fn],\r\n",
        "                                                [  fp, tn]]), \r\n",
        "                        normalize    = False,\r\n",
        "                        target_names = ['Compliance', 'Non-compliance'],\r\n",
        "                        title        = \"Confusion Matrix\")"
      ],
      "execution_count": 201,
      "outputs": []
    },
    {
      "cell_type": "markdown",
      "metadata": {
        "id": "nhntMz6DgQAK"
      },
      "source": [
        "### 6.1 Baseline model - Logistic regression"
      ]
    },
    {
      "cell_type": "code",
      "metadata": {
        "colab": {
          "base_uri": "https://localhost:8080/",
          "height": 419
        },
        "id": "zZ5RKDzo8BS-",
        "outputId": "24b67296-5e45-4232-d61c-afacacc4349a"
      },
      "source": [
        "x_train"
      ],
      "execution_count": 193,
      "outputs": [
        {
          "output_type": "execute_result",
          "data": {
            "text/html": [
              "<div>\n",
              "<style scoped>\n",
              "    .dataframe tbody tr th:only-of-type {\n",
              "        vertical-align: middle;\n",
              "    }\n",
              "\n",
              "    .dataframe tbody tr th {\n",
              "        vertical-align: top;\n",
              "    }\n",
              "\n",
              "    .dataframe thead th {\n",
              "        text-align: right;\n",
              "    }\n",
              "</style>\n",
              "<table border=\"1\" class=\"dataframe\">\n",
              "  <thead>\n",
              "    <tr style=\"text-align: right;\">\n",
              "      <th></th>\n",
              "      <th>agency_name</th>\n",
              "      <th>disposition</th>\n",
              "      <th>fine_amount</th>\n",
              "      <th>discount_amount</th>\n",
              "      <th>judgment_amount</th>\n",
              "      <th>time_to_hearing</th>\n",
              "    </tr>\n",
              "  </thead>\n",
              "  <tbody>\n",
              "    <tr>\n",
              "      <th>8388</th>\n",
              "      <td>0</td>\n",
              "      <td>5</td>\n",
              "      <td>250.0</td>\n",
              "      <td>0.0</td>\n",
              "      <td>305.0</td>\n",
              "      <td>180.0</td>\n",
              "    </tr>\n",
              "    <tr>\n",
              "      <th>67311</th>\n",
              "      <td>1</td>\n",
              "      <td>5</td>\n",
              "      <td>50.0</td>\n",
              "      <td>0.0</td>\n",
              "      <td>85.0</td>\n",
              "      <td>144.0</td>\n",
              "    </tr>\n",
              "    <tr>\n",
              "      <th>72134</th>\n",
              "      <td>1</td>\n",
              "      <td>5</td>\n",
              "      <td>1000.0</td>\n",
              "      <td>0.0</td>\n",
              "      <td>1130.0</td>\n",
              "      <td>109.0</td>\n",
              "    </tr>\n",
              "    <tr>\n",
              "      <th>41895</th>\n",
              "      <td>1</td>\n",
              "      <td>5</td>\n",
              "      <td>200.0</td>\n",
              "      <td>0.0</td>\n",
              "      <td>250.0</td>\n",
              "      <td>40.0</td>\n",
              "    </tr>\n",
              "    <tr>\n",
              "      <th>28332</th>\n",
              "      <td>1</td>\n",
              "      <td>5</td>\n",
              "      <td>3500.0</td>\n",
              "      <td>0.0</td>\n",
              "      <td>3880.0</td>\n",
              "      <td>15.0</td>\n",
              "    </tr>\n",
              "    <tr>\n",
              "      <th>...</th>\n",
              "      <td>...</td>\n",
              "      <td>...</td>\n",
              "      <td>...</td>\n",
              "      <td>...</td>\n",
              "      <td>...</td>\n",
              "      <td>...</td>\n",
              "    </tr>\n",
              "    <tr>\n",
              "      <th>21243</th>\n",
              "      <td>3</td>\n",
              "      <td>5</td>\n",
              "      <td>200.0</td>\n",
              "      <td>0.0</td>\n",
              "      <td>250.0</td>\n",
              "      <td>16.0</td>\n",
              "    </tr>\n",
              "    <tr>\n",
              "      <th>45891</th>\n",
              "      <td>0</td>\n",
              "      <td>5</td>\n",
              "      <td>250.0</td>\n",
              "      <td>0.0</td>\n",
              "      <td>305.0</td>\n",
              "      <td>41.0</td>\n",
              "    </tr>\n",
              "    <tr>\n",
              "      <th>42613</th>\n",
              "      <td>0</td>\n",
              "      <td>5</td>\n",
              "      <td>250.0</td>\n",
              "      <td>0.0</td>\n",
              "      <td>305.0</td>\n",
              "      <td>63.0</td>\n",
              "    </tr>\n",
              "    <tr>\n",
              "      <th>43567</th>\n",
              "      <td>1</td>\n",
              "      <td>5</td>\n",
              "      <td>2500.0</td>\n",
              "      <td>0.0</td>\n",
              "      <td>2780.0</td>\n",
              "      <td>27.0</td>\n",
              "    </tr>\n",
              "    <tr>\n",
              "      <th>68268</th>\n",
              "      <td>0</td>\n",
              "      <td>5</td>\n",
              "      <td>500.0</td>\n",
              "      <td>0.0</td>\n",
              "      <td>580.0</td>\n",
              "      <td>136.0</td>\n",
              "    </tr>\n",
              "  </tbody>\n",
              "</table>\n",
              "<p>71913 rows × 6 columns</p>\n",
              "</div>"
            ],
            "text/plain": [
              "       agency_name  disposition  ...  judgment_amount  time_to_hearing\n",
              "8388             0            5  ...            305.0            180.0\n",
              "67311            1            5  ...             85.0            144.0\n",
              "72134            1            5  ...           1130.0            109.0\n",
              "41895            1            5  ...            250.0             40.0\n",
              "28332            1            5  ...           3880.0             15.0\n",
              "...            ...          ...  ...              ...              ...\n",
              "21243            3            5  ...            250.0             16.0\n",
              "45891            0            5  ...            305.0             41.0\n",
              "42613            0            5  ...            305.0             63.0\n",
              "43567            1            5  ...           2780.0             27.0\n",
              "68268            0            5  ...            580.0            136.0\n",
              "\n",
              "[71913 rows x 6 columns]"
            ]
          },
          "metadata": {
            "tags": []
          },
          "execution_count": 193
        }
      ]
    },
    {
      "cell_type": "code",
      "metadata": {
        "colab": {
          "base_uri": "https://localhost:8080/",
          "height": 419
        },
        "id": "pRAhGe2i2SAw",
        "outputId": "89df7f2d-d913-4a92-eeec-ca052d89b323"
      },
      "source": [
        "x_train_preprocessed = pd.get_dummies(x_train,columns=['disposition','agency_name'])\r\n",
        "x_test_preprocessed = pd.get_dummies(x_test,columns=['disposition','agency_name'])\r\n",
        "\r\n",
        "x_train_preprocessed"
      ],
      "execution_count": 194,
      "outputs": [
        {
          "output_type": "execute_result",
          "data": {
            "text/html": [
              "<div>\n",
              "<style scoped>\n",
              "    .dataframe tbody tr th:only-of-type {\n",
              "        vertical-align: middle;\n",
              "    }\n",
              "\n",
              "    .dataframe tbody tr th {\n",
              "        vertical-align: top;\n",
              "    }\n",
              "\n",
              "    .dataframe thead th {\n",
              "        text-align: right;\n",
              "    }\n",
              "</style>\n",
              "<table border=\"1\" class=\"dataframe\">\n",
              "  <thead>\n",
              "    <tr style=\"text-align: right;\">\n",
              "      <th></th>\n",
              "      <th>fine_amount</th>\n",
              "      <th>discount_amount</th>\n",
              "      <th>judgment_amount</th>\n",
              "      <th>time_to_hearing</th>\n",
              "      <th>disposition_1</th>\n",
              "      <th>disposition_4</th>\n",
              "      <th>disposition_5</th>\n",
              "      <th>disposition_6</th>\n",
              "      <th>agency_name_0</th>\n",
              "      <th>agency_name_1</th>\n",
              "      <th>agency_name_2</th>\n",
              "      <th>agency_name_3</th>\n",
              "    </tr>\n",
              "  </thead>\n",
              "  <tbody>\n",
              "    <tr>\n",
              "      <th>8388</th>\n",
              "      <td>250.0</td>\n",
              "      <td>0.0</td>\n",
              "      <td>305.0</td>\n",
              "      <td>180.0</td>\n",
              "      <td>0</td>\n",
              "      <td>0</td>\n",
              "      <td>1</td>\n",
              "      <td>0</td>\n",
              "      <td>1</td>\n",
              "      <td>0</td>\n",
              "      <td>0</td>\n",
              "      <td>0</td>\n",
              "    </tr>\n",
              "    <tr>\n",
              "      <th>67311</th>\n",
              "      <td>50.0</td>\n",
              "      <td>0.0</td>\n",
              "      <td>85.0</td>\n",
              "      <td>144.0</td>\n",
              "      <td>0</td>\n",
              "      <td>0</td>\n",
              "      <td>1</td>\n",
              "      <td>0</td>\n",
              "      <td>0</td>\n",
              "      <td>1</td>\n",
              "      <td>0</td>\n",
              "      <td>0</td>\n",
              "    </tr>\n",
              "    <tr>\n",
              "      <th>72134</th>\n",
              "      <td>1000.0</td>\n",
              "      <td>0.0</td>\n",
              "      <td>1130.0</td>\n",
              "      <td>109.0</td>\n",
              "      <td>0</td>\n",
              "      <td>0</td>\n",
              "      <td>1</td>\n",
              "      <td>0</td>\n",
              "      <td>0</td>\n",
              "      <td>1</td>\n",
              "      <td>0</td>\n",
              "      <td>0</td>\n",
              "    </tr>\n",
              "    <tr>\n",
              "      <th>41895</th>\n",
              "      <td>200.0</td>\n",
              "      <td>0.0</td>\n",
              "      <td>250.0</td>\n",
              "      <td>40.0</td>\n",
              "      <td>0</td>\n",
              "      <td>0</td>\n",
              "      <td>1</td>\n",
              "      <td>0</td>\n",
              "      <td>0</td>\n",
              "      <td>1</td>\n",
              "      <td>0</td>\n",
              "      <td>0</td>\n",
              "    </tr>\n",
              "    <tr>\n",
              "      <th>28332</th>\n",
              "      <td>3500.0</td>\n",
              "      <td>0.0</td>\n",
              "      <td>3880.0</td>\n",
              "      <td>15.0</td>\n",
              "      <td>0</td>\n",
              "      <td>0</td>\n",
              "      <td>1</td>\n",
              "      <td>0</td>\n",
              "      <td>0</td>\n",
              "      <td>1</td>\n",
              "      <td>0</td>\n",
              "      <td>0</td>\n",
              "    </tr>\n",
              "    <tr>\n",
              "      <th>...</th>\n",
              "      <td>...</td>\n",
              "      <td>...</td>\n",
              "      <td>...</td>\n",
              "      <td>...</td>\n",
              "      <td>...</td>\n",
              "      <td>...</td>\n",
              "      <td>...</td>\n",
              "      <td>...</td>\n",
              "      <td>...</td>\n",
              "      <td>...</td>\n",
              "      <td>...</td>\n",
              "      <td>...</td>\n",
              "    </tr>\n",
              "    <tr>\n",
              "      <th>21243</th>\n",
              "      <td>200.0</td>\n",
              "      <td>0.0</td>\n",
              "      <td>250.0</td>\n",
              "      <td>16.0</td>\n",
              "      <td>0</td>\n",
              "      <td>0</td>\n",
              "      <td>1</td>\n",
              "      <td>0</td>\n",
              "      <td>0</td>\n",
              "      <td>0</td>\n",
              "      <td>0</td>\n",
              "      <td>1</td>\n",
              "    </tr>\n",
              "    <tr>\n",
              "      <th>45891</th>\n",
              "      <td>250.0</td>\n",
              "      <td>0.0</td>\n",
              "      <td>305.0</td>\n",
              "      <td>41.0</td>\n",
              "      <td>0</td>\n",
              "      <td>0</td>\n",
              "      <td>1</td>\n",
              "      <td>0</td>\n",
              "      <td>1</td>\n",
              "      <td>0</td>\n",
              "      <td>0</td>\n",
              "      <td>0</td>\n",
              "    </tr>\n",
              "    <tr>\n",
              "      <th>42613</th>\n",
              "      <td>250.0</td>\n",
              "      <td>0.0</td>\n",
              "      <td>305.0</td>\n",
              "      <td>63.0</td>\n",
              "      <td>0</td>\n",
              "      <td>0</td>\n",
              "      <td>1</td>\n",
              "      <td>0</td>\n",
              "      <td>1</td>\n",
              "      <td>0</td>\n",
              "      <td>0</td>\n",
              "      <td>0</td>\n",
              "    </tr>\n",
              "    <tr>\n",
              "      <th>43567</th>\n",
              "      <td>2500.0</td>\n",
              "      <td>0.0</td>\n",
              "      <td>2780.0</td>\n",
              "      <td>27.0</td>\n",
              "      <td>0</td>\n",
              "      <td>0</td>\n",
              "      <td>1</td>\n",
              "      <td>0</td>\n",
              "      <td>0</td>\n",
              "      <td>1</td>\n",
              "      <td>0</td>\n",
              "      <td>0</td>\n",
              "    </tr>\n",
              "    <tr>\n",
              "      <th>68268</th>\n",
              "      <td>500.0</td>\n",
              "      <td>0.0</td>\n",
              "      <td>580.0</td>\n",
              "      <td>136.0</td>\n",
              "      <td>0</td>\n",
              "      <td>0</td>\n",
              "      <td>1</td>\n",
              "      <td>0</td>\n",
              "      <td>1</td>\n",
              "      <td>0</td>\n",
              "      <td>0</td>\n",
              "      <td>0</td>\n",
              "    </tr>\n",
              "  </tbody>\n",
              "</table>\n",
              "<p>71913 rows × 12 columns</p>\n",
              "</div>"
            ],
            "text/plain": [
              "       fine_amount  discount_amount  ...  agency_name_2  agency_name_3\n",
              "8388         250.0              0.0  ...              0              0\n",
              "67311         50.0              0.0  ...              0              0\n",
              "72134       1000.0              0.0  ...              0              0\n",
              "41895        200.0              0.0  ...              0              0\n",
              "28332       3500.0              0.0  ...              0              0\n",
              "...            ...              ...  ...            ...            ...\n",
              "21243        200.0              0.0  ...              0              1\n",
              "45891        250.0              0.0  ...              0              0\n",
              "42613        250.0              0.0  ...              0              0\n",
              "43567       2500.0              0.0  ...              0              0\n",
              "68268        500.0              0.0  ...              0              0\n",
              "\n",
              "[71913 rows x 12 columns]"
            ]
          },
          "metadata": {
            "tags": []
          },
          "execution_count": 194
        }
      ]
    },
    {
      "cell_type": "code",
      "metadata": {
        "id": "HA3QC0YexUM0"
      },
      "source": [
        "#Normalization using MinMax scaler\r\n",
        "scaler = MinMaxScaler()\r\n",
        "x_train_scaled = scaler.fit_transform(x_train_preprocessed)\r\n",
        "x_test_scaled = scaler.transform(x_test_preprocessed)"
      ],
      "execution_count": 195,
      "outputs": []
    },
    {
      "cell_type": "code",
      "metadata": {
        "colab": {
          "base_uri": "https://localhost:8080/",
          "height": 552
        },
        "id": "gv3Tj-MbgYlI",
        "outputId": "5fb40e3b-1e28-4c47-fa80-5cac516de346"
      },
      "source": [
        "model_predict(LogisticRegression(random_state=0,C=1),x_train_scaled,x_test_scaled,y_train,y_test)"
      ],
      "execution_count": 202,
      "outputs": [
        {
          "output_type": "stream",
          "text": [
            "ROC AUC:  0.7741428216769207\n",
            "Accuracy:  0.9317508656293021\n",
            "Precision:  0.9777777777777777\n",
            "Recall:  0.026206075044669448\n",
            "F1 score:  0.05104408352668214\n"
          ],
          "name": "stdout"
        },
        {
          "output_type": "display_data",
          "data": {
            "image/png": "[encoded data removed]",
            "text/plain": [
              "<Figure size 576x432 with 2 Axes>"
            ]
          },
          "metadata": {
            "tags": [],
            "needs_background": "light"
          }
        }
      ]
    },
    {
      "cell_type": "code",
      "metadata": {
        "colab": {
          "base_uri": "https://localhost:8080/",
          "height": 552
        },
        "id": "4eq7eiavaFSU",
        "outputId": "fdc4723e-8d6c-458c-f03f-6672db5c3131"
      },
      "source": [
        "model_predict(LogisticRegression(random_state=0,C=1),x_train,x_test,y_train,y_test)"
      ],
      "execution_count": 203,
      "outputs": [
        {
          "output_type": "stream",
          "text": [
            "ROC AUC:  0.7793476577649814\n",
            "Accuracy:  0.9359225731091736\n",
            "Precision:  0.8068669527896996\n",
            "Recall:  0.11197141155449672\n",
            "F1 score:  0.19665271966527195\n"
          ],
          "name": "stdout"
        },
        {
          "output_type": "display_data",
          "data": {
            "image/png": "[encoded data removed]",
            "text/plain": [
              "<Figure size 576x432 with 2 Axes>"
            ]
          },
          "metadata": {
            "tags": [],
            "needs_background": "light"
          }
        }
      ]
    },
    {
      "cell_type": "code",
      "metadata": {
        "colab": {
          "base_uri": "https://localhost:8080/",
          "height": 552
        },
        "id": "TCgfXW-KaMAn",
        "outputId": "ea25fb36-ddbe-4585-e497-44fa34336a6c"
      },
      "source": [
        "model_predict(LogisticRegression(random_state=0,C=1),x_train_preprocessed,x_test_preprocessed,y_train,y_test)"
      ],
      "execution_count": 204,
      "outputs": [
        {
          "output_type": "stream",
          "text": [
            "ROC AUC:  0.7962757186626963\n",
            "Accuracy:  0.9390096366442785\n",
            "Precision:  0.8916967509025271\n",
            "Recall:  0.14711137581893985\n",
            "F1 score:  0.2525562372188139\n"
          ],
          "name": "stdout"
        },
        {
          "output_type": "display_data",
          "data": {
            "image/png": "[encoded data removed]",
            "text/plain": [
              "<Figure size 576x432 with 2 Axes>"
            ]
          },
          "metadata": {
            "tags": [],
            "needs_background": "light"
          }
        }
      ]
    },
    {
      "cell_type": "code",
      "metadata": {
        "colab": {
          "base_uri": "https://localhost:8080/"
        },
        "id": "AVEV_LnXaby6",
        "outputId": "9575dd72-545e-481f-ab74-676fdec22cb2"
      },
      "source": [
        "print (x_train_scaled)"
      ],
      "execution_count": 208,
      "outputs": [
        {
          "output_type": "stream",
          "text": [
            "[[0.025      0.         0.02765186 ... 0.         0.         0.        ]\n",
            " [0.005      0.         0.00770626 ... 1.         0.         0.        ]\n",
            " [0.1        0.         0.10244787 ... 1.         0.         0.        ]\n",
            " ...\n",
            " [0.025      0.         0.02765186 ... 0.         0.         0.        ]\n",
            " [0.25       0.         0.25203989 ... 1.         0.         0.        ]\n",
            " [0.05       0.         0.05258386 ... 0.         0.         0.        ]]\n"
          ],
          "name": "stdout"
        }
      ]
    },
    {
      "cell_type": "markdown",
      "metadata": {
        "id": "fdWJoEUImWan"
      },
      "source": [
        "### 6.2 Decision Trees "
      ]
    },
    {
      "cell_type": "markdown",
      "metadata": {
        "id": "18rrxtITmWv9"
      },
      "source": [
        "### 6.3 Random Forest"
      ]
    },
    {
      "cell_type": "markdown",
      "metadata": {
        "id": "NAMAcIWKmW8H"
      },
      "source": [
        ""
      ]
    },
    {
      "cell_type": "code",
      "metadata": {
        "id": "EKkElPhcgKxz"
      },
      "source": [
        "#Fitting the model\r\n",
        "#logreg = LogisticRegression(C=0.1,random_state=0)\r\n",
        "#gbc = GradientBoostingClassifier(random_state=0,learning_rate=i,n_estimators=j,max_depth=k)\r\n",
        "gbc = GradientBoostingClassifier(random_state=0,learning_rate=0.1,n_estimators=45,max_depth=5)\r\n",
        "#model = logreg.fit(X_train,y_train)\r\n",
        "#model = logreg.fit(X_train_scaled,y_train)\r\n",
        "model = gbc.fit(X_train,y_train)"
      ],
      "execution_count": null,
      "outputs": []
    },
    {
      "cell_type": "markdown",
      "metadata": {
        "id": "LJx1WNAt0r_b"
      },
      "source": [
        "### 4.6 Prediction, evaluation and optimization"
      ]
    },
    {
      "cell_type": "code",
      "metadata": {
        "id": "imvFMnLS0sYg"
      },
      "source": [
        "#Determining the decision function\r\n",
        "#y_score_lr = model.decision_function(X_test_scaled)\r\n",
        "y_score_eval = model.decision_function(X_test)\r\n",
        "y_proba_eval = model.predict_proba(X_test)\r\n",
        "y_score = model.decision_function(test_df)\r\n",
        "y_proba = model.predict_proba(test_df)\r\n",
        "\r\n",
        "#print (y_score_lr[:20])\r\n",
        "#print (y_proba[:20,1])\r\n",
        "#print (y_proba.shape)\r\n",
        "#print (ticket_id_test.shape)\r\n",
        "#print (test_df.iloc[:20,:])\r\n",
        "#print (y_test[:20])\r\n",
        "\r\n",
        "#Determining ROC curve and AUC\r\n",
        "fpr, tpr, _ = roc_curve(y_test, y_score_eval)\r\n",
        "roc_auc = auc(fpr, tpr)\r\n",
        "\r\n",
        "#Prediction\r\n",
        "#y_predict = model.predict(X_test_scaled)\r\n",
        "#y_predict_test_df = model.predict(test_df)\r\n",
        "#y_predict = model.predict(X_test)\r\n",
        "\r\n",
        "#Classification report\r\n",
        "#print (classification_report(y_test,y_predict))\r\n",
        "\r\n",
        "#print (\"Learning rate: \",i)\r\n",
        "#print (\"Estimators: \",j)\r\n",
        "#print (\"Max depth: \",k)\r\n",
        "#print (\"\")\r\n",
        "#print (\"Area under the curve (AUC) score \",roc_auc)\r\n",
        "#print (\"Accuracy \",accuracy_score(y_test,y_predict))\r\n",
        "#print (\"\")\r\n",
        "#print (test_df.columns)\r\n",
        "\r\n",
        "#################################################### End of evaluation #########################################################\r\n",
        "\r\n",
        "#grid_values = {'C': [0.001, 0.01, 0.05, 0.1, 1, 10, 100]}\r\n",
        "#grid_values = {'learning_rate':[0.001,0.01,0.1,1,10,100],'max_depth':[1,2,3,4,5],'n_estimators':[1,2,5,10]}\r\n",
        "\r\n",
        "#grid_clf = GridSearchCV(gbc, param_grid = grid_values, scoring='roc_auc',cv=5)\r\n",
        "#grid_clf.fit(X_train_scaled, y_train)\r\n",
        "#grid_clf.fit(X_train, y_train)\r\n",
        "#print (grid_clf.cv_results_)\r\n",
        "#print (\"\")\r\n",
        "#print (\"Max AUC C parameter \",grid_clf.best_params_)\r\n",
        "#print (\"Best AUC score \",grid_clf.best_score_)\r\n",
        "\r\n",
        "#y_decision_fn_scores = grid_clf.decision_function(X_test) \r\n",
        "\r\n",
        "################################################### End of Optimization ########################################################\r\n",
        "\r\n",
        "#Creating the final compliance probability outcomes with ticket ID as index\r\n",
        "#compliance = pd.DataFrame()\r\n",
        "#compliance[\"ticket_id\"] = ticket_id_test\r\n",
        "#compliance[\"compliance\"] = y_proba[:,1]\r\n",
        "#compliance = compliance.set_index(\"ticket_id\")\r\n",
        "\r\n",
        "#plt.scatter(range(len(y_proba_lr[:20,1])),y_proba_lr[:20,1])\r\n",
        "#plt.scatter(range(len(y_proba_lr[:20,0])),y_proba_lr[:20,0])\r\n",
        "#plt.show()\r\n",
        "\r\n",
        "#print (compliance[\"compliance\"])"
      ],
      "execution_count": 14,
      "outputs": []
    },
    {
      "cell_type": "code",
      "metadata": {
        "colab": {
          "base_uri": "https://localhost:8080/"
        },
        "id": "-8YW60Iptysi",
        "outputId": "3760d8d1-8dd4-4d07-af0e-eace58763a8a"
      },
      "source": [
        "'''\r\n",
        "#Remove instances in \"mailing_address_str_number\" that start with \"P.O. Bo\"\r\n",
        "test_df[\"mailing_address_str_number\"] = test_df[\"mailing_address_str_number\"].replace('P.O. Bo',0)\r\n",
        "test_df[\"mailing_address_str_number\"] = test_df[\"mailing_address_str_number\"].replace('P.O. BO',0)\r\n",
        "test_df[\"mailing_address_str_number\"] = test_df[\"mailing_address_str_number\"].replace('P.O. Box',0)\r\n",
        "test_df[\"mailing_address_str_number\"] = test_df[\"mailing_address_str_number\"].replace('P.O. BOX',0)\r\n",
        "test_df[\"mailing_address_str_number\"] = test_df[\"mailing_address_str_number\"].replace('PO BOX')\r\n",
        "test_df[\"mailing_address_str_number\"] = test_df[\"mailing_address_str_number\"].replace('P.O.BOX')\r\n",
        "test_df[\"mailing_address_str_number\"] = test_df[\"mailing_address_str_number\"].replace('P.O.')\r\n",
        "test_df[\"mailing_address_str_number\"] = test_df[\"mailing_address_str_number\"].replace('215-B')\r\n",
        "test_df[\"mailing_address_str_number\"] = test_df[\"mailing_address_str_number\"].replace('47-42')\r\n",
        "test_df[\"mailing_address_str_number\"] = test_df[\"mailing_address_str_number\"].replace('141-19')\r\n",
        "test_df[\"mailing_address_str_number\"] = test_df[\"mailing_address_str_number\"].replace('p.o. bo')\r\n",
        "test_df[\"mailing_address_str_number\"] = test_df[\"mailing_address_str_number\"].replace('98-8184')\r\n",
        "test_df[\"mailing_address_str_number\"] = test_df[\"mailing_address_str_number\"].replace('ONE')\r\n",
        "test_df[\"mailing_address_str_number\"] = test_df[\"mailing_address_str_number\"].replace('242-12')\r\n",
        "test_df[\"mailing_address_str_number\"] = test_df[\"mailing_address_str_number\"].replace('P. O. B')\r\n",
        "test_df[\"mailing_address_str_number\"] = test_df[\"mailing_address_str_number\"].replace('94-28')\r\n",
        "test_df[\"mailing_address_str_number\"] = test_df[\"mailing_address_str_number\"].replace('P O BOX')\r\n",
        "test_df[\"mailing_address_str_number\"] = test_df[\"mailing_address_str_number\"].replace('48-2')\r\n",
        "'''\r\n"
      ],
      "execution_count": null,
      "outputs": [
        {
          "output_type": "stream",
          "text": [
            "ticket_id\n",
            "284932    0.084407\n",
            "285362    0.010408\n",
            "285361    0.043289\n",
            "285338    0.041925\n",
            "285346    0.058830\n",
            "            ...   \n",
            "376496    0.016640\n",
            "376497    0.016640\n",
            "376499    0.052997\n",
            "376500    0.052242\n",
            "369851    0.792380\n",
            "Name: compliance, Length: 61001, dtype: float64\n"
          ],
          "name": "stdout"
        }
      ]
    },
    {
      "cell_type": "code",
      "metadata": {
        "colab": {
          "base_uri": "https://localhost:8080/"
        },
        "id": "sg4hmPyGIOU-",
        "outputId": "9b9349ab-5922-4831-f7dc-0921ac82599b"
      },
      "source": [
        "prediction = gbc.predict(X_test)\r\n",
        "prediction"
      ],
      "execution_count": 15,
      "outputs": [
        {
          "output_type": "execute_result",
          "data": {
            "text/plain": [
              "array([0., 0., 0., ..., 0., 0., 0.])"
            ]
          },
          "metadata": {
            "tags": []
          },
          "execution_count": 15
        }
      ]
    },
    {
      "cell_type": "code",
      "metadata": {
        "colab": {
          "base_uri": "https://localhost:8080/"
        },
        "id": "RGPZDdJmtf3J",
        "outputId": "b3fe6708-2f48-44bc-e550-58c93a9aeeec"
      },
      "source": [
        "tn, fp, fn, tp = confusion_matrix(y_test.values, prediction).ravel()\r\n",
        "print (tn, fp, fn, tp)"
      ],
      "execution_count": 16,
      "outputs": [
        {
          "output_type": "stream",
          "text": [
            "22255 37 1296 383\n"
          ],
          "name": "stdout"
        }
      ]
    },
    {
      "cell_type": "code",
      "metadata": {
        "colab": {
          "base_uri": "https://localhost:8080/",
          "height": 467
        },
        "id": "nPxRHKjrIgpd",
        "outputId": "2fb167db-5b3e-49ec-c16b-3cb70faf9ba7"
      },
      "source": [
        "plot_confusion_matrix(cm           = np.array([[ tp,  fn],\r\n",
        "                                              [  fp, tn]]), \r\n",
        "                      normalize    = False,\r\n",
        "                      target_names = ['Compliance', 'Non-compliance'],\r\n",
        "                      title        = \"Confusion Matrix\")"
      ],
      "execution_count": 18,
      "outputs": [
        {
          "output_type": "display_data",
          "data": {
            "image/png": "[encoded data removed]",
            "text/plain": [
              "<Figure size 576x432 with 2 Axes>"
            ]
          },
          "metadata": {
            "tags": [],
            "needs_background": "light"
          }
        }
      ]
    },
    {
      "cell_type": "code",
      "metadata": {
        "colab": {
          "base_uri": "https://localhost:8080/"
        },
        "id": "nV_VAl_OIiD_",
        "outputId": "cde7aac3-787b-496d-9b9f-609ac6b3a66e"
      },
      "source": [
        "roc_auc"
      ],
      "execution_count": 19,
      "outputs": [
        {
          "output_type": "execute_result",
          "data": {
            "text/plain": [
              "0.80460788353872"
            ]
          },
          "metadata": {
            "tags": []
          },
          "execution_count": 19
        }
      ]
    },
    {
      "cell_type": "code",
      "metadata": {
        "id": "eK5I46WXJKMS"
      },
      "source": [
        ""
      ],
      "execution_count": null,
      "outputs": []
    }
  ]
}