{
  "nbformat": 4,
  "nbformat_minor": 0,
  "metadata": {
    "colab": {
      "name": "Predicting_Property_Maintenance_Fines.ipynb",
      "provenance": [],
      "collapsed_sections": []
    },
    "kernelspec": {
      "name": "python3",
      "display_name": "Python 3"
    }
  },
  "cells": [
    {
      "cell_type": "markdown",
      "metadata": {
        "id": "Bw5YaBokZhur"
      },
      "source": [
        "# 1. Mount virtual drive"
      ]
    },
    {
      "cell_type": "code",
      "metadata": {
        "colab": {
          "base_uri": "https://localhost:8080/"
        },
        "id": "JHYpskmTsWK6",
        "outputId": "c99285ca-d7c2-471f-d26f-28e5fd02e1cc"
      },
      "source": [
        "from google.colab import drive\n",
        "drive.mount('/content/drive')"
      ],
      "execution_count": 1,
      "outputs": [
        {
          "output_type": "stream",
          "text": [
            "Mounted at /content/drive\n"
          ],
          "name": "stdout"
        }
      ]
    },
    {
      "cell_type": "markdown",
      "metadata": {
        "id": "pGsO-brpZmmF"
      },
      "source": [
        "# 2. Importing libraries"
      ]
    },
    {
      "cell_type": "code",
      "metadata": {
        "id": "e0rqMAc1sxeQ"
      },
      "source": [
        "import pandas as pd\r\n",
        "import numpy as np\r\n",
        "from sklearn.linear_model import LogisticRegression\r\n",
        "from sklearn.model_selection import train_test_split\r\n",
        "import matplotlib.pyplot as plt\r\n",
        "from sklearn.preprocessing import LabelEncoder\r\n",
        "from pandas import ExcelWriter\r\n",
        "from sklearn.metrics import accuracy_score, recall_score, auc, roc_curve, precision_score\r\n",
        "from sklearn.metrics import classification_report\r\n",
        "from sklearn.model_selection import GridSearchCV\r\n",
        "from sklearn.preprocessing import MinMaxScaler\r\n",
        "from sklearn.ensemble import GradientBoostingClassifier\r\n",
        "from sklearn.preprocessing import LabelEncoder"
      ],
      "execution_count": 26,
      "outputs": []
    },
    {
      "cell_type": "markdown",
      "metadata": {
        "id": "ilvRGm5DZpp7"
      },
      "source": [
        "# 3. Loading datasets"
      ]
    },
    {
      "cell_type": "code",
      "metadata": {
        "colab": {
          "base_uri": "https://localhost:8080/",
          "height": 603
        },
        "id": "lLKrLRPmsh8a",
        "outputId": "a4a77543-484e-4bab-f8ef-61b2a4bb2263"
      },
      "source": [
        "train_df = pd.read_csv(\"/content/drive/My Drive/train.csv\",encoding = 'ISO-8859-1')\r\n",
        "test_df = pd.read_csv(\"/content/drive/MyDrive/test.csv\")\r\n",
        "address_df = pd.read_csv(\"/content/drive/MyDrive/addresses.csv\")\r\n",
        "\r\n",
        "train_df.head()"
      ],
      "execution_count": 40,
      "outputs": [
        {
          "output_type": "stream",
          "text": [
            "/usr/local/lib/python3.6/dist-packages/IPython/core/interactiveshell.py:2718: DtypeWarning: Columns (11,12,31) have mixed types.Specify dtype option on import or set low_memory=False.\n",
            "  interactivity=interactivity, compiler=compiler, result=result)\n"
          ],
          "name": "stderr"
        },
        {
          "output_type": "execute_result",
          "data": {
            "text/html": [
              "<div>\n",
              "<style scoped>\n",
              "    .dataframe tbody tr th:only-of-type {\n",
              "        vertical-align: middle;\n",
              "    }\n",
              "\n",
              "    .dataframe tbody tr th {\n",
              "        vertical-align: top;\n",
              "    }\n",
              "\n",
              "    .dataframe thead th {\n",
              "        text-align: right;\n",
              "    }\n",
              "</style>\n",
              "<table border=\"1\" class=\"dataframe\">\n",
              "  <thead>\n",
              "    <tr style=\"text-align: right;\">\n",
              "      <th></th>\n",
              "      <th>ticket_id</th>\n",
              "      <th>agency_name</th>\n",
              "      <th>inspector_name</th>\n",
              "      <th>violator_name</th>\n",
              "      <th>violation_street_number</th>\n",
              "      <th>violation_street_name</th>\n",
              "      <th>violation_zip_code</th>\n",
              "      <th>mailing_address_str_number</th>\n",
              "      <th>mailing_address_str_name</th>\n",
              "      <th>city</th>\n",
              "      <th>state</th>\n",
              "      <th>zip_code</th>\n",
              "      <th>non_us_str_code</th>\n",
              "      <th>country</th>\n",
              "      <th>ticket_issued_date</th>\n",
              "      <th>hearing_date</th>\n",
              "      <th>violation_code</th>\n",
              "      <th>violation_description</th>\n",
              "      <th>disposition</th>\n",
              "      <th>fine_amount</th>\n",
              "      <th>admin_fee</th>\n",
              "      <th>state_fee</th>\n",
              "      <th>late_fee</th>\n",
              "      <th>discount_amount</th>\n",
              "      <th>clean_up_cost</th>\n",
              "      <th>judgment_amount</th>\n",
              "      <th>payment_amount</th>\n",
              "      <th>balance_due</th>\n",
              "      <th>payment_date</th>\n",
              "      <th>payment_status</th>\n",
              "      <th>collection_status</th>\n",
              "      <th>grafitti_status</th>\n",
              "      <th>compliance_detail</th>\n",
              "      <th>compliance</th>\n",
              "    </tr>\n",
              "  </thead>\n",
              "  <tbody>\n",
              "    <tr>\n",
              "      <th>0</th>\n",
              "      <td>22056</td>\n",
              "      <td>Buildings, Safety Engineering &amp; Env Department</td>\n",
              "      <td>Sims, Martinzie</td>\n",
              "      <td>INVESTMENT INC., MIDWEST MORTGAGE</td>\n",
              "      <td>2900.0</td>\n",
              "      <td>TYLER</td>\n",
              "      <td>NaN</td>\n",
              "      <td>3.0</td>\n",
              "      <td>S. WICKER</td>\n",
              "      <td>CHICAGO</td>\n",
              "      <td>IL</td>\n",
              "      <td>60606</td>\n",
              "      <td>NaN</td>\n",
              "      <td>USA</td>\n",
              "      <td>2004-03-16 11:40:00</td>\n",
              "      <td>2005-03-21 10:30:00</td>\n",
              "      <td>9-1-36(a)</td>\n",
              "      <td>Failure of owner to obtain certificate of comp...</td>\n",
              "      <td>Responsible by Default</td>\n",
              "      <td>250.0</td>\n",
              "      <td>20.0</td>\n",
              "      <td>10.0</td>\n",
              "      <td>25.0</td>\n",
              "      <td>0.0</td>\n",
              "      <td>0.0</td>\n",
              "      <td>305.0</td>\n",
              "      <td>0.0</td>\n",
              "      <td>305.0</td>\n",
              "      <td>NaN</td>\n",
              "      <td>NO PAYMENT APPLIED</td>\n",
              "      <td>NaN</td>\n",
              "      <td>NaN</td>\n",
              "      <td>non-compliant by no payment</td>\n",
              "      <td>0.0</td>\n",
              "    </tr>\n",
              "    <tr>\n",
              "      <th>1</th>\n",
              "      <td>27586</td>\n",
              "      <td>Buildings, Safety Engineering &amp; Env Department</td>\n",
              "      <td>Williams, Darrin</td>\n",
              "      <td>Michigan, Covenant House</td>\n",
              "      <td>4311.0</td>\n",
              "      <td>CENTRAL</td>\n",
              "      <td>NaN</td>\n",
              "      <td>2959.0</td>\n",
              "      <td>Martin Luther King</td>\n",
              "      <td>Detroit</td>\n",
              "      <td>MI</td>\n",
              "      <td>48208</td>\n",
              "      <td>NaN</td>\n",
              "      <td>USA</td>\n",
              "      <td>2004-04-23 12:30:00</td>\n",
              "      <td>2005-05-06 13:30:00</td>\n",
              "      <td>61-63.0600</td>\n",
              "      <td>Failed To Secure Permit For Lawful Use Of Buil...</td>\n",
              "      <td>Responsible by Determination</td>\n",
              "      <td>750.0</td>\n",
              "      <td>20.0</td>\n",
              "      <td>10.0</td>\n",
              "      <td>75.0</td>\n",
              "      <td>0.0</td>\n",
              "      <td>0.0</td>\n",
              "      <td>855.0</td>\n",
              "      <td>780.0</td>\n",
              "      <td>75.0</td>\n",
              "      <td>2005-06-02 00:00:00</td>\n",
              "      <td>PAID IN FULL</td>\n",
              "      <td>NaN</td>\n",
              "      <td>NaN</td>\n",
              "      <td>compliant by late payment within 1 month</td>\n",
              "      <td>1.0</td>\n",
              "    </tr>\n",
              "    <tr>\n",
              "      <th>2</th>\n",
              "      <td>22062</td>\n",
              "      <td>Buildings, Safety Engineering &amp; Env Department</td>\n",
              "      <td>Sims, Martinzie</td>\n",
              "      <td>SANDERS, DERRON</td>\n",
              "      <td>1449.0</td>\n",
              "      <td>LONGFELLOW</td>\n",
              "      <td>NaN</td>\n",
              "      <td>23658.0</td>\n",
              "      <td>P.O. BOX</td>\n",
              "      <td>DETROIT</td>\n",
              "      <td>MI</td>\n",
              "      <td>48223</td>\n",
              "      <td>NaN</td>\n",
              "      <td>USA</td>\n",
              "      <td>2004-04-26 13:40:00</td>\n",
              "      <td>2005-03-29 10:30:00</td>\n",
              "      <td>9-1-36(a)</td>\n",
              "      <td>Failure of owner to obtain certificate of comp...</td>\n",
              "      <td>Not responsible by Dismissal</td>\n",
              "      <td>250.0</td>\n",
              "      <td>0.0</td>\n",
              "      <td>0.0</td>\n",
              "      <td>0.0</td>\n",
              "      <td>0.0</td>\n",
              "      <td>0.0</td>\n",
              "      <td>0.0</td>\n",
              "      <td>0.0</td>\n",
              "      <td>0.0</td>\n",
              "      <td>NaN</td>\n",
              "      <td>NO PAYMENT APPLIED</td>\n",
              "      <td>NaN</td>\n",
              "      <td>NaN</td>\n",
              "      <td>not responsible by disposition</td>\n",
              "      <td>NaN</td>\n",
              "    </tr>\n",
              "    <tr>\n",
              "      <th>3</th>\n",
              "      <td>22084</td>\n",
              "      <td>Buildings, Safety Engineering &amp; Env Department</td>\n",
              "      <td>Sims, Martinzie</td>\n",
              "      <td>MOROSI, MIKE</td>\n",
              "      <td>1441.0</td>\n",
              "      <td>LONGFELLOW</td>\n",
              "      <td>NaN</td>\n",
              "      <td>5.0</td>\n",
              "      <td>ST. CLAIR</td>\n",
              "      <td>DETROIT</td>\n",
              "      <td>MI</td>\n",
              "      <td>48214</td>\n",
              "      <td>NaN</td>\n",
              "      <td>USA</td>\n",
              "      <td>2004-04-26 13:30:00</td>\n",
              "      <td>NaN</td>\n",
              "      <td>9-1-36(a)</td>\n",
              "      <td>Failure of owner to obtain certificate of comp...</td>\n",
              "      <td>Not responsible by City Dismissal</td>\n",
              "      <td>250.0</td>\n",
              "      <td>0.0</td>\n",
              "      <td>0.0</td>\n",
              "      <td>0.0</td>\n",
              "      <td>0.0</td>\n",
              "      <td>0.0</td>\n",
              "      <td>0.0</td>\n",
              "      <td>0.0</td>\n",
              "      <td>0.0</td>\n",
              "      <td>NaN</td>\n",
              "      <td>NO PAYMENT APPLIED</td>\n",
              "      <td>NaN</td>\n",
              "      <td>NaN</td>\n",
              "      <td>not responsible by disposition</td>\n",
              "      <td>NaN</td>\n",
              "    </tr>\n",
              "    <tr>\n",
              "      <th>4</th>\n",
              "      <td>22093</td>\n",
              "      <td>Buildings, Safety Engineering &amp; Env Department</td>\n",
              "      <td>Sims, Martinzie</td>\n",
              "      <td>NATHANIEL, NEAL</td>\n",
              "      <td>2449.0</td>\n",
              "      <td>CHURCHILL</td>\n",
              "      <td>NaN</td>\n",
              "      <td>7449.0</td>\n",
              "      <td>CHURCHILL</td>\n",
              "      <td>DETROIT</td>\n",
              "      <td>MI</td>\n",
              "      <td>48206</td>\n",
              "      <td>NaN</td>\n",
              "      <td>USA</td>\n",
              "      <td>2004-04-26 13:00:00</td>\n",
              "      <td>2005-03-29 10:30:00</td>\n",
              "      <td>9-1-36(a)</td>\n",
              "      <td>Failure of owner to obtain certificate of comp...</td>\n",
              "      <td>Not responsible by Dismissal</td>\n",
              "      <td>250.0</td>\n",
              "      <td>0.0</td>\n",
              "      <td>0.0</td>\n",
              "      <td>0.0</td>\n",
              "      <td>0.0</td>\n",
              "      <td>0.0</td>\n",
              "      <td>0.0</td>\n",
              "      <td>0.0</td>\n",
              "      <td>0.0</td>\n",
              "      <td>NaN</td>\n",
              "      <td>NO PAYMENT APPLIED</td>\n",
              "      <td>NaN</td>\n",
              "      <td>NaN</td>\n",
              "      <td>not responsible by disposition</td>\n",
              "      <td>NaN</td>\n",
              "    </tr>\n",
              "  </tbody>\n",
              "</table>\n",
              "</div>"
            ],
            "text/plain": [
              "   ticket_id  ... compliance\n",
              "0      22056  ...        0.0\n",
              "1      27586  ...        1.0\n",
              "2      22062  ...        NaN\n",
              "3      22084  ...        NaN\n",
              "4      22093  ...        NaN\n",
              "\n",
              "[5 rows x 34 columns]"
            ]
          },
          "metadata": {
            "tags": []
          },
          "execution_count": 40
        }
      ]
    },
    {
      "cell_type": "code",
      "metadata": {
        "colab": {
          "base_uri": "https://localhost:8080/"
        },
        "id": "0HC9WC7MZW2Q",
        "outputId": "dc24b6ec-8d29-4706-f02c-eb3b0c347edd"
      },
      "source": [
        "train_df.shape"
      ],
      "execution_count": 4,
      "outputs": [
        {
          "output_type": "execute_result",
          "data": {
            "text/plain": [
              "(250306, 34)"
            ]
          },
          "metadata": {
            "tags": []
          },
          "execution_count": 4
        }
      ]
    },
    {
      "cell_type": "code",
      "metadata": {
        "colab": {
          "base_uri": "https://localhost:8080/",
          "height": 309
        },
        "id": "wjhpsxEppCqE",
        "outputId": "c85e1e01-e9d4-4d31-df3c-c109a57c74a8"
      },
      "source": [
        "test_df.head()"
      ],
      "execution_count": 7,
      "outputs": [
        {
          "output_type": "execute_result",
          "data": {
            "text/html": [
              "<div>\n",
              "<style scoped>\n",
              "    .dataframe tbody tr th:only-of-type {\n",
              "        vertical-align: middle;\n",
              "    }\n",
              "\n",
              "    .dataframe tbody tr th {\n",
              "        vertical-align: top;\n",
              "    }\n",
              "\n",
              "    .dataframe thead th {\n",
              "        text-align: right;\n",
              "    }\n",
              "</style>\n",
              "<table border=\"1\" class=\"dataframe\">\n",
              "  <thead>\n",
              "    <tr style=\"text-align: right;\">\n",
              "      <th></th>\n",
              "      <th>ticket_id</th>\n",
              "      <th>violation_street_number</th>\n",
              "      <th>violation_street_name</th>\n",
              "      <th>mailing_address_str_name</th>\n",
              "      <th>city</th>\n",
              "      <th>ticket_issued_date</th>\n",
              "      <th>hearing_date</th>\n",
              "      <th>violation_description</th>\n",
              "      <th>disposition</th>\n",
              "      <th>fine_amount</th>\n",
              "      <th>late_fee</th>\n",
              "      <th>judgment_amount</th>\n",
              "    </tr>\n",
              "  </thead>\n",
              "  <tbody>\n",
              "    <tr>\n",
              "      <th>0</th>\n",
              "      <td>284932</td>\n",
              "      <td>10041.0</td>\n",
              "      <td>ROSEBERRY</td>\n",
              "      <td>ROSEBERRY</td>\n",
              "      <td>DETROIT</td>\n",
              "      <td>2012-01-04 14:00:00</td>\n",
              "      <td>2012-01-19 09:00:00</td>\n",
              "      <td>Failure to secure City or Private solid waste ...</td>\n",
              "      <td>Responsible by Default</td>\n",
              "      <td>200.0</td>\n",
              "      <td>20.0</td>\n",
              "      <td>250.0</td>\n",
              "    </tr>\n",
              "    <tr>\n",
              "      <th>1</th>\n",
              "      <td>285362</td>\n",
              "      <td>18520.0</td>\n",
              "      <td>EVERGREEN</td>\n",
              "      <td>GLASTONBURY</td>\n",
              "      <td>DETROIT</td>\n",
              "      <td>2012-01-05 09:50:00</td>\n",
              "      <td>2012-02-06 09:00:00</td>\n",
              "      <td>Allowing bulk solid waste to lie or accumulate...</td>\n",
              "      <td>Responsible by Default</td>\n",
              "      <td>1000.0</td>\n",
              "      <td>100.0</td>\n",
              "      <td>1130.0</td>\n",
              "    </tr>\n",
              "    <tr>\n",
              "      <th>2</th>\n",
              "      <td>285361</td>\n",
              "      <td>18520.0</td>\n",
              "      <td>EVERGREEN</td>\n",
              "      <td>GLASTONBURY</td>\n",
              "      <td>DETROIT</td>\n",
              "      <td>2012-01-05 09:50:00</td>\n",
              "      <td>2012-02-06 09:00:00</td>\n",
              "      <td>Improper placement of Courville container betw...</td>\n",
              "      <td>Responsible by Default</td>\n",
              "      <td>100.0</td>\n",
              "      <td>10.0</td>\n",
              "      <td>140.0</td>\n",
              "    </tr>\n",
              "    <tr>\n",
              "      <th>3</th>\n",
              "      <td>285338</td>\n",
              "      <td>1835.0</td>\n",
              "      <td>CENTRAL</td>\n",
              "      <td>NELSON</td>\n",
              "      <td>WOODHAVEN</td>\n",
              "      <td>2012-01-05 10:25:00</td>\n",
              "      <td>2012-02-07 09:00:00</td>\n",
              "      <td>Allowing bulk solid waste to lie or accumulate...</td>\n",
              "      <td>Responsible by Default</td>\n",
              "      <td>200.0</td>\n",
              "      <td>20.0</td>\n",
              "      <td>250.0</td>\n",
              "    </tr>\n",
              "    <tr>\n",
              "      <th>4</th>\n",
              "      <td>285346</td>\n",
              "      <td>1700.0</td>\n",
              "      <td>CENTRAL</td>\n",
              "      <td>MUNGER</td>\n",
              "      <td>LIVONIA</td>\n",
              "      <td>2012-01-05 10:20:00</td>\n",
              "      <td>2012-02-14 09:00:00</td>\n",
              "      <td>Violation of time limit for approved container...</td>\n",
              "      <td>Responsible by Default</td>\n",
              "      <td>100.0</td>\n",
              "      <td>10.0</td>\n",
              "      <td>140.0</td>\n",
              "    </tr>\n",
              "  </tbody>\n",
              "</table>\n",
              "</div>"
            ],
            "text/plain": [
              "   ticket_id  violation_street_number  ... late_fee judgment_amount\n",
              "0     284932                  10041.0  ...     20.0           250.0\n",
              "1     285362                  18520.0  ...    100.0          1130.0\n",
              "2     285361                  18520.0  ...     10.0           140.0\n",
              "3     285338                   1835.0  ...     20.0           250.0\n",
              "4     285346                   1700.0  ...     10.0           140.0\n",
              "\n",
              "[5 rows x 12 columns]"
            ]
          },
          "metadata": {
            "tags": []
          },
          "execution_count": 7
        }
      ]
    },
    {
      "cell_type": "code",
      "metadata": {
        "colab": {
          "base_uri": "https://localhost:8080/"
        },
        "id": "DRej9-2wpGz4",
        "outputId": "0bfd5dcb-12be-4982-8fb6-b79f1c0fa068"
      },
      "source": [
        "test_df.shape"
      ],
      "execution_count": 8,
      "outputs": [
        {
          "output_type": "execute_result",
          "data": {
            "text/plain": [
              "(61001, 12)"
            ]
          },
          "metadata": {
            "tags": []
          },
          "execution_count": 8
        }
      ]
    },
    {
      "cell_type": "markdown",
      "metadata": {
        "id": "c3fvyuBVZffg"
      },
      "source": [
        "# 4. Feature engineering"
      ]
    },
    {
      "cell_type": "markdown",
      "metadata": {
        "id": "q7qISPk0s_0w"
      },
      "source": [
        "### 4.1 Data cleaning"
      ]
    },
    {
      "cell_type": "code",
      "metadata": {
        "id": "vBgEcL4YtEOE"
      },
      "source": [
        "#Changing all city entries to upper case to make it simpler\r\n",
        "train_df[\"city\"] = train_df[\"city\"].apply(str.upper)\r\n",
        "\r\n",
        "#Filtering tickets only for the city of Detroit and then dropping the 'city' variable \r\n",
        "#since all instances would be for Detroit\r\n",
        "train_df = train_df[train_df[\"city\"]==\"DETROIT\"]\r\n",
        "train_df = train_df.drop([\"city\"],axis=1)\r\n",
        "test_df = test_df.drop([\"city\"],axis=1)\r\n",
        "\r\n",
        "#Removing all 'not found responsible' compliance entries\r\n",
        "train_df = train_df[(train_df[\"compliance\"]==1.0) | (train_df[\"compliance\"]==0.0)]\r\n",
        "\r\n",
        "#Dropping all the 'Nan' instances from the training set\r\n",
        "train_df = train_df.dropna()\r\n",
        "\r\n",
        "#Removing original time variables\r\n",
        "train_df = train_df.drop([\"ticket_issued_date\",\"hearing_date\"],axis=1)\r\n",
        "test_df = test_df.drop([\"ticket_issued_date\",\"hearing_date\"],axis=1)"
      ],
      "execution_count": null,
      "outputs": []
    },
    {
      "cell_type": "markdown",
      "metadata": {
        "id": "ecHDUYnjt5Ni"
      },
      "source": [
        "### 4.2 Feature engineering"
      ]
    },
    {
      "cell_type": "code",
      "metadata": {
        "id": "247n85E4t4fJ"
      },
      "source": [
        "#Turning the late_fee variable to binary values with 0 indicating no late fee and 1 indicating a late fee\r\n",
        "train_df[\"late_fee_bin\"] = (train_df[\"late_fee\"]>0).map(int)\r\n",
        "train_df = train_df.drop([\"late_fee\"],axis=1)\r\n",
        "test_df[\"late_fee_bin\"] = (test_df[\"late_fee\"]>0).map(int)\r\n",
        "test_df = test_df.drop([\"late_fee\"],axis=1)\r\n",
        "\r\n",
        "#Creating a new variable for storing the time difference between the ticket issued date and hearing date\r\n",
        "#And converting the difference into days for easier calculation\r\n",
        "train_df[\"ticket_issued_date\"] = train_df.apply(lambda x: pd.to_datetime(x[6]),axis=1)\r\n",
        "train_df[\"hearing_date\"] = train_df.apply(lambda x: pd.to_datetime(x[7]),axis=1)\r\n",
        "test_df[\"ticket_issued_date\"] = test_df.apply(lambda x: pd.to_datetime(x[6]),axis=1)\r\n",
        "test_df[\"hearing_date\"] = test_df.apply(lambda x: pd.to_datetime(x[7]),axis=1)\r\n",
        "train_df[\"time_to_hearing\"] = train_df[\"hearing_date\"] - train_df[\"ticket_issued_date\"]\r\n",
        "test_df[\"time_to_hearing\"] = test_df[\"hearing_date\"] - test_df[\"ticket_issued_date\"]\r\n",
        "\r\n",
        "test_df[\"time_to_hearing\"] = test_df[\"time_to_hearing\"].map(str)\r\n",
        "test_df[\"time_to_hearing\"] = test_df[\"time_to_hearing\"].replace('NaT',str(pd.Timestamp('1/1/18')-pd.Timestamp('1/1/18')))\r\n",
        "test_df[\"time_to_hearing\"] = test_df[\"time_to_hearing\"].map(pd.Timedelta)\r\n",
        "\r\n",
        "train_df[\"time_to_hearing\"] = train_df[\"time_to_hearing\"].apply(lambda x: x.days)\r\n",
        "test_df[\"time_to_hearing\"] = test_df[\"time_to_hearing\"].apply(lambda x: x.days)\r\n",
        "\r\n",
        "#Separating the 'ticket_id' column\r\n",
        "ticket_id_train = train_df[\"ticket_id\"]\r\n",
        "ticket_id_test = test_df[\"ticket_id\"]\r\n",
        "train_df = train_df.drop([\"ticket_id\"],axis=1)\r\n",
        "test_df = test_df.drop([\"ticket_id\"],axis=1)"
      ],
      "execution_count": null,
      "outputs": []
    },
    {
      "cell_type": "markdown",
      "metadata": {
        "id": "HZ8-fElYmd_o"
      },
      "source": [
        "### 4.3 Initial feature selection"
      ]
    },
    {
      "cell_type": "code",
      "metadata": {
        "id": "5R8IPkolmx06"
      },
      "source": [
        "#Removing the features that don't provide much useful information regarding the compliance - feature selection\r\n",
        "#Also removing features that may directly relate to compliance and whereby cause data leakage\r\n",
        "train_df = train_df.drop([\"violation_zip_code\",\"clean_up_cost\",\"grafitti_status\",\"discount_amount\",\"non_us_str_code\"],axis=1)\r\n",
        "train_df = train_df.drop([\"violator_name\",\"balance_due\",\"payment_status\",\"payment_date\",\"collection_status\",\"compliance_detail\"],axis=1)\r\n",
        "train_df = train_df.drop([\"admin_fee\",\"state_fee\",\"payment_amount\",\"state\",\"agency_name\",\"inspector_name\",\"country\",\"violation_code\"],axis=1)\r\n",
        "train_df = train_df.drop([\"zip_code\",\"mailing_address_str_number\"],axis=1)\r\n",
        "test_df = test_df.drop([\"violation_zip_code\",\"clean_up_cost\",\"grafitti_status\",\"discount_amount\",\"non_us_str_code\"],axis=1)\r\n",
        "test_df = test_df.drop([\"violator_name\",\"admin_fee\",\"state_fee\",\"state\",\"agency_name\",\"inspector_name\",\"country\",\"violation_code\"],axis=1)\r\n",
        "test_df = test_df.drop([\"zip_code\",\"mailing_address_str_number\"],axis=1)"
      ],
      "execution_count": 5,
      "outputs": []
    },
    {
      "cell_type": "markdown",
      "metadata": {
        "id": "CbXOO4dWmkMY"
      },
      "source": [
        "### 4.4 Label encoding"
      ]
    },
    {
      "cell_type": "code",
      "metadata": {
        "id": "gjDZAZaumo0z"
      },
      "source": [
        "#Label encoding categorical variables\r\n",
        "le = LabelEncoder()\r\n",
        "\r\n",
        "le.fit(train_df[\"violation_street_name\"].append(test_df[\"violation_street_name\"]))\r\n",
        "train_df[\"violation_street_name\"] = le.transform(train_df[\"violation_street_name\"])\r\n",
        "test_df[\"violation_street_name\"] = le.transform(test_df[\"violation_street_name\"])\r\n",
        "\r\n",
        "train_df[\"mailing_address_str_name\"] = train_df[\"mailing_address_str_name\"].map(str)\r\n",
        "test_df[\"mailing_address_str_name\"] = test_df[\"mailing_address_str_name\"].map(str)\r\n",
        "le.fit(train_df[\"mailing_address_str_name\"].append(test_df[\"mailing_address_str_name\"]))\r\n",
        "train_df[\"mailing_address_str_name\"] = le.transform(train_df[\"mailing_address_str_name\"])\r\n",
        "test_df[\"mailing_address_str_name\"] = le.transform(test_df[\"mailing_address_str_name\"])\r\n",
        "\r\n",
        "le.fit(train_df[\"violation_description\"].append(test_df[\"violation_description\"]))\r\n",
        "train_df[\"violation_description\"] = le.transform(train_df[\"violation_description\"])\r\n",
        "test_df[\"violation_description\"] = le.transform(test_df[\"violation_description\"])\r\n",
        "\r\n",
        "le.fit(train_df[\"disposition\"].append(test_df[\"disposition\"]))\r\n",
        "train_df[\"disposition\"] = le.transform(train_df[\"disposition\"])\r\n",
        "test_df[\"disposition\"] = le.transform(test_df[\"disposition\"])"
      ],
      "execution_count": 42,
      "outputs": []
    },
    {
      "cell_type": "markdown",
      "metadata": {
        "id": "6A4Y9kZe0cPn"
      },
      "source": [
        "### 4.5 Data preparation and training"
      ]
    },
    {
      "cell_type": "code",
      "metadata": {
        "id": "2yImyT6F0bmO"
      },
      "source": [
        "#Splitting the training dataset into features and target variables\r\n",
        "y = train_df[\"compliance\"]\r\n",
        "x = train_df.drop([\"compliance\"],axis=1)\r\n",
        "\r\n",
        "#Train/Test Split\r\n",
        "X_train,X_test,y_train,y_test = train_test_split(x,y,random_state=0)\r\n",
        "\r\n",
        "#Normalization using MinMax scaler\r\n",
        "#scaler = MinMaxScaler()\r\n",
        "#X_train_scaled = scaler.fit_transform(X_train)\r\n",
        "#X_test_scaled = scaler.transform(X_test)\r\n",
        "\r\n",
        "#for i in [0.1]:\r\n",
        "#    for j in [25,30,35,40,45,50]:\r\n",
        "#        for k in [5,6,7,8,9,10]:\r\n",
        "        \r\n",
        "#Fitting the model\r\n",
        "#logreg = LogisticRegression(C=0.1,random_state=0)\r\n",
        "#gbc = GradientBoostingClassifier(random_state=0,learning_rate=i,n_estimators=j,max_depth=k)\r\n",
        "gbc = GradientBoostingClassifier(random_state=0,learning_rate=0.1,n_estimators=45,max_depth=5)\r\n",
        "#model = logreg.fit(X_train,y_train)\r\n",
        "#model = logreg.fit(X_train_scaled,y_train)\r\n",
        "model = gbc.fit(X_train,y_train)"
      ],
      "execution_count": null,
      "outputs": []
    },
    {
      "cell_type": "markdown",
      "metadata": {
        "id": "LJx1WNAt0r_b"
      },
      "source": [
        "### 4.6 Prediction, evaluation and optimization"
      ]
    },
    {
      "cell_type": "code",
      "metadata": {
        "id": "imvFMnLS0sYg"
      },
      "source": [
        "#Determining the decision function\r\n",
        "#y_score_lr = model.decision_function(X_test_scaled)\r\n",
        "y_score_eval = model.decision_function(X_test)\r\n",
        "y_proba_eval = model.predict_proba(X_test)\r\n",
        "y_score = model.decision_function(test_df)\r\n",
        "y_proba = model.predict_proba(test_df)\r\n",
        "\r\n",
        "#print (y_score_lr[:20])\r\n",
        "#print (y_proba[:20,1])\r\n",
        "#print (y_proba.shape)\r\n",
        "#print (ticket_id_test.shape)\r\n",
        "#print (test_df.iloc[:20,:])\r\n",
        "#print (y_test[:20])\r\n",
        "\r\n",
        "#Determining ROC curve and AUC\r\n",
        "fpr, tpr, _ = roc_curve(y_test, y_score_eval)\r\n",
        "roc_auc = auc(fpr, tpr)\r\n",
        "\r\n",
        "#Prediction\r\n",
        "#y_predict = model.predict(X_test_scaled)\r\n",
        "#y_predict_test_df = model.predict(test_df)\r\n",
        "#y_predict = model.predict(X_test)\r\n",
        "\r\n",
        "#Classification report\r\n",
        "#print (classification_report(y_test,y_predict))\r\n",
        "\r\n",
        "#print (\"Learning rate: \",i)\r\n",
        "#print (\"Estimators: \",j)\r\n",
        "#print (\"Max depth: \",k)\r\n",
        "#print (\"\")\r\n",
        "#print (\"Area under the curve (AUC) score \",roc_auc)\r\n",
        "#print (\"Accuracy \",accuracy_score(y_test,y_predict))\r\n",
        "#print (\"\")\r\n",
        "#print (test_df.columns)\r\n",
        "\r\n",
        "#################################################### End of evaluation #########################################################\r\n",
        "\r\n",
        "#grid_values = {'C': [0.001, 0.01, 0.05, 0.1, 1, 10, 100]}\r\n",
        "#grid_values = {'learning_rate':[0.001,0.01,0.1,1,10,100],'max_depth':[1,2,3,4,5],'n_estimators':[1,2,5,10]}\r\n",
        "\r\n",
        "#grid_clf = GridSearchCV(gbc, param_grid = grid_values, scoring='roc_auc',cv=5)\r\n",
        "#grid_clf.fit(X_train_scaled, y_train)\r\n",
        "#grid_clf.fit(X_train, y_train)\r\n",
        "#print (grid_clf.cv_results_)\r\n",
        "#print (\"\")\r\n",
        "#print (\"Max AUC C parameter \",grid_clf.best_params_)\r\n",
        "#print (\"Best AUC score \",grid_clf.best_score_)\r\n",
        "\r\n",
        "#y_decision_fn_scores = grid_clf.decision_function(X_test) \r\n",
        "\r\n",
        "################################################### End of Optimization ########################################################\r\n",
        "\r\n",
        "#Creating the final compliance probability outcomes with ticket ID as index\r\n",
        "compliance = pd.DataFrame()\r\n",
        "compliance[\"ticket_id\"] = ticket_id_test\r\n",
        "compliance[\"compliance\"] = y_proba[:,1]\r\n",
        "compliance = compliance.set_index(\"ticket_id\")\r\n",
        "\r\n",
        "#plt.scatter(range(len(y_proba_lr[:20,1])),y_proba_lr[:20,1])\r\n",
        "#plt.scatter(range(len(y_proba_lr[:20,0])),y_proba_lr[:20,0])\r\n",
        "#plt.show()\r\n",
        "\r\n",
        "print (compliance[\"compliance\"])"
      ],
      "execution_count": null,
      "outputs": []
    },
    {
      "cell_type": "code",
      "metadata": {
        "colab": {
          "base_uri": "https://localhost:8080/"
        },
        "id": "-8YW60Iptysi",
        "outputId": "3760d8d1-8dd4-4d07-af0e-eace58763a8a"
      },
      "source": [
        "'''\r\n",
        "#Remove instances in \"mailing_address_str_number\" that start with \"P.O. Bo\"\r\n",
        "test_df[\"mailing_address_str_number\"] = test_df[\"mailing_address_str_number\"].replace('P.O. Bo',0)\r\n",
        "test_df[\"mailing_address_str_number\"] = test_df[\"mailing_address_str_number\"].replace('P.O. BO',0)\r\n",
        "test_df[\"mailing_address_str_number\"] = test_df[\"mailing_address_str_number\"].replace('P.O. Box',0)\r\n",
        "test_df[\"mailing_address_str_number\"] = test_df[\"mailing_address_str_number\"].replace('P.O. BOX',0)\r\n",
        "test_df[\"mailing_address_str_number\"] = test_df[\"mailing_address_str_number\"].replace('PO BOX')\r\n",
        "test_df[\"mailing_address_str_number\"] = test_df[\"mailing_address_str_number\"].replace('P.O.BOX')\r\n",
        "test_df[\"mailing_address_str_number\"] = test_df[\"mailing_address_str_number\"].replace('P.O.')\r\n",
        "test_df[\"mailing_address_str_number\"] = test_df[\"mailing_address_str_number\"].replace('215-B')\r\n",
        "test_df[\"mailing_address_str_number\"] = test_df[\"mailing_address_str_number\"].replace('47-42')\r\n",
        "test_df[\"mailing_address_str_number\"] = test_df[\"mailing_address_str_number\"].replace('141-19')\r\n",
        "test_df[\"mailing_address_str_number\"] = test_df[\"mailing_address_str_number\"].replace('p.o. bo')\r\n",
        "test_df[\"mailing_address_str_number\"] = test_df[\"mailing_address_str_number\"].replace('98-8184')\r\n",
        "test_df[\"mailing_address_str_number\"] = test_df[\"mailing_address_str_number\"].replace('ONE')\r\n",
        "test_df[\"mailing_address_str_number\"] = test_df[\"mailing_address_str_number\"].replace('242-12')\r\n",
        "test_df[\"mailing_address_str_number\"] = test_df[\"mailing_address_str_number\"].replace('P. O. B')\r\n",
        "test_df[\"mailing_address_str_number\"] = test_df[\"mailing_address_str_number\"].replace('94-28')\r\n",
        "test_df[\"mailing_address_str_number\"] = test_df[\"mailing_address_str_number\"].replace('P O BOX')\r\n",
        "test_df[\"mailing_address_str_number\"] = test_df[\"mailing_address_str_number\"].replace('48-2')\r\n",
        "'''\r\n"
      ],
      "execution_count": 11,
      "outputs": [
        {
          "output_type": "stream",
          "text": [
            "ticket_id\n",
            "284932    0.084407\n",
            "285362    0.010408\n",
            "285361    0.043289\n",
            "285338    0.041925\n",
            "285346    0.058830\n",
            "            ...   \n",
            "376496    0.016640\n",
            "376497    0.016640\n",
            "376499    0.052997\n",
            "376500    0.052242\n",
            "369851    0.792380\n",
            "Name: compliance, Length: 61001, dtype: float64\n"
          ],
          "name": "stdout"
        }
      ]
    },
    {
      "cell_type": "code",
      "metadata": {
        "id": "RGPZDdJmtf3J"
      },
      "source": [
        ""
      ],
      "execution_count": null,
      "outputs": []
    }
  ]
}